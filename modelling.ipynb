{
 "cells": [
  {
   "cell_type": "markdown",
   "metadata": {},
   "source": [
    "# Telco Churn Modelling\n",
    "Models to be trained and evaluated:\n",
    "* Nearest Centroid - Baseline Model\n",
    "* Logistic Regression\n",
    "* Support Vector Machines\n",
    "* Random Forest Classifier\n",
    "* Nearest Component Analyusis + K-Nearest Neighbours"
   ]
  },
  {
   "cell_type": "markdown",
   "metadata": {},
   "source": [
    "## Evaluation Metric : Recall\n",
    "The models' performances will be evaluated on their Recall. We believe that recall is the most appropriate metric for this problem.\n",
    "\n",
    "We want to correctly identify as many potential churn customers as possible, in order to target them with promotions to entice them to remain with the Telco.\n",
    "\n",
    "The cost of not identifying a potential churn customer (__False Negative__) is __more costly__ than incorrectly identifying a churn target (__False Positive__). This is under the reasonable assumption that the cost of losing a customer is greater than the cost incurred for promotions and marketing. \n",
    "\n",
    "Although recall will be our primary metric, we will also be using the precision-recall curve to optimize the thresholds for our models."
   ]
  },
  {
   "cell_type": "markdown",
   "metadata": {},
   "source": [
    "#### Importing Libraries"
   ]
  },
  {
   "cell_type": "code",
   "execution_count": 1,
   "metadata": {},
   "outputs": [],
   "source": [
    "# Standard Tools\n",
    "from scipy import stats\n",
    "import pandas as pd\n",
    "import numpy as np\n",
    "import warnings\n",
    "import pickle\n",
    "import time\n",
    "import sys \n",
    "# sys.path.insert(0, '/home/yeokoso/Documents/ml_scripts') # Laptop Path\n",
    "sys.path.insert(0, 'C:\\\\Users\\\\Joshua\\\\Documents\\\\DS_Projects\\ml_scripts') # PC path\n",
    "warnings.filterwarnings('ignore')\n",
    "\n",
    "# Machine Learning\n",
    "from sklearn.metrics import recall_score, precision_score, f1_score, roc_auc_score, accuracy_score\n",
    "from sklearn.metrics import confusion_matrix, classification_report, roc_curve\n",
    "from sklearn.model_selection import train_test_split, StratifiedKFold\n",
    "from sklearn.model_selection import GridSearchCV, cross_validate\n",
    "from sklearn.preprocessing import StandardScaler\n",
    "\n",
    "from sklearn.linear_model import LogisticRegressionCV, LogisticRegression\n",
    "from sklearn.ensemble import GradientBoostingClassifier\n",
    "from sklearn.ensemble import RandomForestClassifier\n",
    "from sklearn.neighbors import KNeighborsClassifier\n",
    "from sklearn.neighbors import NearestCentroid\n",
    "from sklearn.svm import LinearSVC, SVC\n",
    "\n",
    "# Sampling Tools\n",
    "from imblearn.over_sampling import SMOTE, ADASYN, KMeansSMOTE, RandomOverSampler\n",
    "from imblearn.pipeline import Pipeline\n",
    "\n",
    "# Visualisation\n",
    "from yellowbrick.classifier import DiscriminationThreshold\n",
    "from matplotlib.gridspec import GridSpec\n",
    "import matplotlib.pyplot as plt\n",
    "import seaborn as sns\n",
    "%matplotlib inline\n",
    "%config InlineBackend.figure_formate = 'retina'\n",
    "plt.style.use('fivethirtyeight')\n",
    "\n",
    "# Random State\n",
    "SEED = 8888"
   ]
  },
  {
   "cell_type": "markdown",
   "metadata": {},
   "source": [
    "#### Loading our Data and Splitting into Training and Testing sets"
   ]
  },
  {
   "cell_type": "code",
   "execution_count": 2,
   "metadata": {},
   "outputs": [],
   "source": [
    "with open('cleaned_dataset_all_levels.pickle', 'rb') as f:\n",
    "    df = pickle.load(f)"
   ]
  },
  {
   "cell_type": "code",
   "execution_count": 3,
   "metadata": {},
   "outputs": [
    {
     "data": {
      "text/html": [
       "<div>\n",
       "<style scoped>\n",
       "    .dataframe tbody tr th:only-of-type {\n",
       "        vertical-align: middle;\n",
       "    }\n",
       "\n",
       "    .dataframe tbody tr th {\n",
       "        vertical-align: top;\n",
       "    }\n",
       "\n",
       "    .dataframe thead th {\n",
       "        text-align: right;\n",
       "    }\n",
       "</style>\n",
       "<table border=\"1\" class=\"dataframe\">\n",
       "  <thead>\n",
       "    <tr style=\"text-align: right;\">\n",
       "      <th></th>\n",
       "      <th>gender</th>\n",
       "      <th>SeniorCitizen</th>\n",
       "      <th>Partner</th>\n",
       "      <th>Dependents</th>\n",
       "      <th>tenure</th>\n",
       "      <th>PhoneService</th>\n",
       "      <th>OnlineSecurity</th>\n",
       "      <th>OnlineBackup</th>\n",
       "      <th>DeviceProtection</th>\n",
       "      <th>TechSupport</th>\n",
       "      <th>...</th>\n",
       "      <th>InternetService_DSL</th>\n",
       "      <th>InternetService_Fiber_optic</th>\n",
       "      <th>InternetService_No</th>\n",
       "      <th>Contract_Month_to_month</th>\n",
       "      <th>Contract_One_year</th>\n",
       "      <th>Contract_Two_year</th>\n",
       "      <th>PaymentMethod_Bank_Transfer</th>\n",
       "      <th>PaymentMethod_Credit_Card</th>\n",
       "      <th>PaymentMethod_E_Check</th>\n",
       "      <th>PaymentMethod_Check</th>\n",
       "    </tr>\n",
       "  </thead>\n",
       "  <tbody>\n",
       "    <tr>\n",
       "      <th>0</th>\n",
       "      <td>0</td>\n",
       "      <td>0</td>\n",
       "      <td>1</td>\n",
       "      <td>0</td>\n",
       "      <td>1</td>\n",
       "      <td>0</td>\n",
       "      <td>0</td>\n",
       "      <td>1</td>\n",
       "      <td>0</td>\n",
       "      <td>0</td>\n",
       "      <td>...</td>\n",
       "      <td>1</td>\n",
       "      <td>0</td>\n",
       "      <td>0</td>\n",
       "      <td>1</td>\n",
       "      <td>0</td>\n",
       "      <td>0</td>\n",
       "      <td>0</td>\n",
       "      <td>0</td>\n",
       "      <td>1</td>\n",
       "      <td>0</td>\n",
       "    </tr>\n",
       "    <tr>\n",
       "      <th>1</th>\n",
       "      <td>1</td>\n",
       "      <td>0</td>\n",
       "      <td>0</td>\n",
       "      <td>0</td>\n",
       "      <td>34</td>\n",
       "      <td>1</td>\n",
       "      <td>1</td>\n",
       "      <td>0</td>\n",
       "      <td>1</td>\n",
       "      <td>0</td>\n",
       "      <td>...</td>\n",
       "      <td>1</td>\n",
       "      <td>0</td>\n",
       "      <td>0</td>\n",
       "      <td>0</td>\n",
       "      <td>1</td>\n",
       "      <td>0</td>\n",
       "      <td>0</td>\n",
       "      <td>0</td>\n",
       "      <td>0</td>\n",
       "      <td>1</td>\n",
       "    </tr>\n",
       "    <tr>\n",
       "      <th>2</th>\n",
       "      <td>1</td>\n",
       "      <td>0</td>\n",
       "      <td>0</td>\n",
       "      <td>0</td>\n",
       "      <td>2</td>\n",
       "      <td>1</td>\n",
       "      <td>1</td>\n",
       "      <td>1</td>\n",
       "      <td>0</td>\n",
       "      <td>0</td>\n",
       "      <td>...</td>\n",
       "      <td>1</td>\n",
       "      <td>0</td>\n",
       "      <td>0</td>\n",
       "      <td>1</td>\n",
       "      <td>0</td>\n",
       "      <td>0</td>\n",
       "      <td>0</td>\n",
       "      <td>0</td>\n",
       "      <td>0</td>\n",
       "      <td>1</td>\n",
       "    </tr>\n",
       "    <tr>\n",
       "      <th>3</th>\n",
       "      <td>1</td>\n",
       "      <td>0</td>\n",
       "      <td>0</td>\n",
       "      <td>0</td>\n",
       "      <td>45</td>\n",
       "      <td>0</td>\n",
       "      <td>1</td>\n",
       "      <td>0</td>\n",
       "      <td>1</td>\n",
       "      <td>1</td>\n",
       "      <td>...</td>\n",
       "      <td>1</td>\n",
       "      <td>0</td>\n",
       "      <td>0</td>\n",
       "      <td>0</td>\n",
       "      <td>1</td>\n",
       "      <td>0</td>\n",
       "      <td>1</td>\n",
       "      <td>0</td>\n",
       "      <td>0</td>\n",
       "      <td>0</td>\n",
       "    </tr>\n",
       "    <tr>\n",
       "      <th>4</th>\n",
       "      <td>0</td>\n",
       "      <td>0</td>\n",
       "      <td>0</td>\n",
       "      <td>0</td>\n",
       "      <td>2</td>\n",
       "      <td>1</td>\n",
       "      <td>0</td>\n",
       "      <td>0</td>\n",
       "      <td>0</td>\n",
       "      <td>0</td>\n",
       "      <td>...</td>\n",
       "      <td>0</td>\n",
       "      <td>1</td>\n",
       "      <td>0</td>\n",
       "      <td>1</td>\n",
       "      <td>0</td>\n",
       "      <td>0</td>\n",
       "      <td>0</td>\n",
       "      <td>0</td>\n",
       "      <td>1</td>\n",
       "      <td>0</td>\n",
       "    </tr>\n",
       "  </tbody>\n",
       "</table>\n",
       "<p>5 rows × 29 columns</p>\n",
       "</div>"
      ],
      "text/plain": [
       "   gender  SeniorCitizen  Partner  Dependents  tenure  PhoneService  \\\n",
       "0       0              0        1           0       1             0   \n",
       "1       1              0        0           0      34             1   \n",
       "2       1              0        0           0       2             1   \n",
       "3       1              0        0           0      45             0   \n",
       "4       0              0        0           0       2             1   \n",
       "\n",
       "   OnlineSecurity  OnlineBackup  DeviceProtection  TechSupport  ...  \\\n",
       "0               0             1                 0            0  ...   \n",
       "1               1             0                 1            0  ...   \n",
       "2               1             1                 0            0  ...   \n",
       "3               1             0                 1            1  ...   \n",
       "4               0             0                 0            0  ...   \n",
       "\n",
       "   InternetService_DSL  InternetService_Fiber_optic  InternetService_No  \\\n",
       "0                    1                            0                   0   \n",
       "1                    1                            0                   0   \n",
       "2                    1                            0                   0   \n",
       "3                    1                            0                   0   \n",
       "4                    0                            1                   0   \n",
       "\n",
       "   Contract_Month_to_month  Contract_One_year  Contract_Two_year  \\\n",
       "0                        1                  0                  0   \n",
       "1                        0                  1                  0   \n",
       "2                        1                  0                  0   \n",
       "3                        0                  1                  0   \n",
       "4                        1                  0                  0   \n",
       "\n",
       "   PaymentMethod_Bank_Transfer  PaymentMethod_Credit_Card  \\\n",
       "0                            0                          0   \n",
       "1                            0                          0   \n",
       "2                            0                          0   \n",
       "3                            1                          0   \n",
       "4                            0                          0   \n",
       "\n",
       "   PaymentMethod_E_Check  PaymentMethod_Check  \n",
       "0                      1                    0  \n",
       "1                      0                    1  \n",
       "2                      0                    1  \n",
       "3                      0                    0  \n",
       "4                      1                    0  \n",
       "\n",
       "[5 rows x 29 columns]"
      ]
     },
     "execution_count": 3,
     "metadata": {},
     "output_type": "execute_result"
    }
   ],
   "source": [
    "df.head()"
   ]
  },
  {
   "cell_type": "code",
   "execution_count": 4,
   "metadata": {},
   "outputs": [],
   "source": [
    "X = df.drop('Churn', axis = 1)\n",
    "y = df.Churn"
   ]
  },
  {
   "cell_type": "code",
   "execution_count": 5,
   "metadata": {},
   "outputs": [],
   "source": [
    "X_train, X_test, y_train, y_test = train_test_split(X, y, test_size=0.2, stratify=y, random_state=SEED)"
   ]
  },
  {
   "cell_type": "code",
   "execution_count": 6,
   "metadata": {},
   "outputs": [],
   "source": [
    "# Defining our cross validation method\n",
    "skf = StratifiedKFold(n_splits=5, shuffle=True, random_state=SEED)"
   ]
  },
  {
   "cell_type": "code",
   "execution_count": 7,
   "metadata": {},
   "outputs": [],
   "source": [
    "# Kwargs for cross_validate method\n",
    "cv_kwargs = {\n",
    "    'scoring' : 'recall',\n",
    "    'cv' : skf,\n",
    "    'n_jobs' : -1,\n",
    "    'return_train_score' : True,\n",
    "    'verbose' : False,\n",
    "    'return_estimator' : True\n",
    "}"
   ]
  },
  {
   "cell_type": "code",
   "execution_count": 8,
   "metadata": {},
   "outputs": [],
   "source": [
    "def get_best_estimator(cv_results):\n",
    "    ''' Function that returns the best estimator found during cross valiation.\n",
    "    Arguments:\n",
    "        cv_results : dict\n",
    "            Results from Sklearn's cross_validate method.\n",
    "    \n",
    "    Returns:\n",
    "        best_estimator : Sklearn estimator object\n",
    "            Best estimator found during cross validation.\n",
    "    '''\n",
    "    scores = list(cv_results['test_score'])\n",
    "    max_score_index = scores.index(max(scores))\n",
    "    best_estimator = cv_results['estimator'][max_score_index]\n",
    "    \n",
    "    return best_estimator"
   ]
  },
  {
   "cell_type": "code",
   "execution_count": 9,
   "metadata": {},
   "outputs": [],
   "source": [
    "def model_results_summary(model, X_train, y_train, X_test, y_test, cv_kwargs, model_name='', threshold=0.5, return_estimator=True):\n",
    "    cv_results = cross_validate(model, X_train, y_train, **cv_kwargs)\n",
    "    \n",
    "    avg_train_score = np.mean(cv_results['train_score']) * 100\n",
    "    avg_valid_score = np.mean(cv_results['test_score']) * 100\n",
    "    avg_training_time = np.mean(cv_results['fit_time'])\n",
    "    avg_predict_time = np.mean(cv_results['score_time'])\n",
    "    \n",
    "    best_model = get_best_estimator(cv_results)\n",
    "    best_model.fit(X_train, y_train)\n",
    "    \n",
    "    # Class predictions\n",
    "    if threshold != 0.5:\n",
    "        y_pred = np.where(best_model.predict_proba(X_test)[:,1] > threshold, 1, 0)\n",
    "    else:\n",
    "        y_pred = best_model.predict(X_test)\n",
    "        \n",
    "    title = f'{model_name} CV Results Summary'\n",
    "    len_title = len(title)\n",
    "    report_title = f'Holdout Dataset Classification Report for {model_name}'\n",
    "    report_title_len = len(report_title)\n",
    "    metric = cv_kwargs['scoring'].capitalize()\n",
    "    \n",
    "    print(title)\n",
    "    print('=' * len_title)\n",
    "    print(f'Mean Training {metric}', '\\t', '{:.2f}%'.format(avg_train_score))\n",
    "    print(f'Mean Validation {metric}', '\\t', '{:.2f}%'.format(avg_valid_score))\n",
    "    print()\n",
    "    print('Mean Fitting Time', '\\t', '{:.4f}s'.format(avg_training_time))\n",
    "    print('Mean Scoring Time', '\\t', '{:.4f}s'.format(avg_predict_time))\n",
    "    print()\n",
    "    print(report_title)\n",
    "    print('=' * report_title_len)\n",
    "    print(classification_report(y_test, y_pred))\n",
    "    \n",
    "    if return_estimator:\n",
    "        return best_model"
   ]
  },
  {
   "cell_type": "code",
   "execution_count": 10,
   "metadata": {},
   "outputs": [],
   "source": [
    "def model_predictions(model, X_train, y_train, X_test, threshold=0.5, predict_probability=True):\n",
    "    '''Function that fits a Sklearn estimator object and returns predictions.\n",
    "    Arguments:\n",
    "        model : Sklearn estimator object\n",
    "        predict_probability : bool, default = True\n",
    "            Returns class probabilities for binary classifiers\n",
    "    Returns:\n",
    "        y_pred : array\n",
    "            Predicted target values\n",
    "        y_probab : array\n",
    "            Predicted class probabilities for the positive class\n",
    "    '''\n",
    "    model.fit(X_train, y_train)\n",
    "    if threshold == 0.5:\n",
    "        y_pred = model.predict(X_test)\n",
    "    else:\n",
    "        y_pred = np.where(model.predict_proba(X_test)[:,1] > threshold, 1, 0)\n",
    "    \n",
    "    if predict_probability:\n",
    "        y_proba = model.predict_proba(X_test)[:,1]\n",
    "        return y_pred, y_proba\n",
    "    \n",
    "    else:\n",
    "        return y_pred"
   ]
  },
  {
   "cell_type": "code",
   "execution_count": 11,
   "metadata": {},
   "outputs": [],
   "source": [
    "def results_visualisations(model, X_train, y_train, X_test, y_test, random_state, threshold=0.5):\n",
    "    y_pred, y_proba = model_predictions(model, X_train, y_train, X_test, predict_probability=True, threshold=threshold)\n",
    "    fpr, tpr, thresholds = roc_curve(y_test, y_proba)\n",
    "    conf_matrix = confusion_matrix(y_test, y_pred)\n",
    "\n",
    "    fig = plt.figure(figsize=(10,12))\n",
    "    plt.style.use('fivethirtyeight')\n",
    "    gs = GridSpec(2,2, height_ratios=[2,3])\n",
    "    ax1 = fig.add_subplot(gs[0,0])\n",
    "    ax2 = fig.add_subplot(gs[0,1])\n",
    "    ax3 = fig.add_subplot(gs[1,:])\n",
    "    plt.subplots_adjust(hspace=0.3)\n",
    "    \n",
    "    # ROC Curve Plot\n",
    "    ax1.plot(fpr, tpr)\n",
    "    ax1.plot([0,1], [0,1], c='orange', ls='--')\n",
    "    ax1.set_title('ROC Curve', size=18, y=1.05)\n",
    "    ax1.set_ylabel('True Positive Rate', size=16)\n",
    "    ax1.set_xlabel('False Positive Rate', size=16)\n",
    "    ax1.tick_params(axis='both', which='major', labelsize=14)\n",
    "\n",
    "    # Confusion Matrix Heatmap\n",
    "    sns.heatmap(conf_matrix, cmap='Blues', annot=True, annot_kws={'size':16}, fmt='g', ax=ax2)\n",
    "    ax2.set_title('Confusion Matrix', size=18, y=1.05)\n",
    "    ax2.set_ylabel('Actual Class', size=16)\n",
    "    ax2.set_xlabel('Predicted Class', size=16)\n",
    "    ax2.tick_params(axis='both', which='major', labelsize=14)\n",
    "    cbar = ax2.collections[0].colorbar\n",
    "    cbar.ax.tick_params(labelsize=14)\n",
    "\n",
    "    # Discrimination Threshold Plot\n",
    "    visualiser = DiscriminationThreshold(model, ax=ax3, n_trials=5, cv=0.2, exclude='queue_rate',\n",
    "                                         random_state=random_state, title='Threshold Plot')\n",
    "    visualiser.fit(X_train, y_train)\n",
    "    ax3.set_title('Threshold Plot', size=18, y=1.05)\n",
    "    ax3.tick_params(axis='both', which='major', labelsize=14)\n",
    "    plt.rcParams[\"legend.fontsize\"] = 14\n",
    "    visualiser.show();"
   ]
  },
  {
   "cell_type": "code",
   "execution_count": 12,
   "metadata": {},
   "outputs": [],
   "source": [
    "def model_report(model, X_train , y_train, X_test, y_test, model_name, threshold=0.5):\n",
    "    model.fit(X_train, y_train)\n",
    "    y_pred = model_predictions(model, X_train, y_train, X_test, predict_probability=False)\n",
    "    \n",
    "    accuracy = accuracy_score(y_test, y_pred)\n",
    "    roc_auc = roc_auc_score(y_test, y_pred)\n",
    "    recall = recall_score(y_test, y_pred)\n",
    "    precision = precision_score(y_test, y_pred)\n",
    "    f1 = f1_score(y_test, y_pred) \n",
    "    \n",
    "    df = pd.DataFrame({\n",
    "        'Model' : [model_name],\n",
    "        'Accuracy' : [accuracy],\n",
    "        'ROC_AUC' : [roc_auc],\n",
    "        'Precision' : [precision],\n",
    "        'Recall' : [recall],\n",
    "        'F1' : [f1]\n",
    "    })\n",
    "    \n",
    "    df = df.round(3)\n",
    "    return df"
   ]
  },
  {
   "cell_type": "markdown",
   "metadata": {},
   "source": [
    "## Baseline Model : Nearest Centroid Classifier\n",
    "The Nearest Centroid Classifier is a simple algorithm that represents each class by the __centroid of its members__, similar to the label updating phase of the K-Means algorithm. Furthermore, there are __no parameters to choose__ from, making it a __good baseline classifier__."
   ]
  },
  {
   "cell_type": "code",
   "execution_count": 13,
   "metadata": {},
   "outputs": [
    {
     "name": "stdout",
     "output_type": "stream",
     "text": [
      "Nearest Centroid CV Results Summary\n",
      "===================================\n",
      "Mean Training Recall \t 80.33%\n",
      "Mean Validation Recall \t 80.00%\n",
      "\n",
      "Mean Fitting Time \t 0.0086s\n",
      "Mean Scoring Time \t 0.0024s\n",
      "\n",
      "Holdout Dataset Classification Report for Nearest Centroid\n",
      "==========================================================\n",
      "              precision    recall  f1-score   support\n",
      "\n",
      "           0       0.90      0.71      0.79      1033\n",
      "           1       0.49      0.78      0.61       374\n",
      "\n",
      "    accuracy                           0.73      1407\n",
      "   macro avg       0.70      0.75      0.70      1407\n",
      "weighted avg       0.79      0.73      0.74      1407\n",
      "\n"
     ]
    }
   ],
   "source": [
    "ncc_pipe = Pipeline(steps=[\n",
    "    ('Standardise', StandardScaler()),\n",
    "    ('NearestCentroid', NearestCentroid())\n",
    "])\n",
    "\n",
    "ncc_model = model_results_summary(ncc_pipe, X_train, y_train, X_test, y_test, cv_kwargs,\n",
    "                                  model_name='Nearest Centroid')"
   ]
  },
  {
   "cell_type": "code",
   "execution_count": 14,
   "metadata": {},
   "outputs": [],
   "source": [
    "# Saving results to a dataframe\n",
    "ncc_base = model_report(ncc_model, X_train , y_train, X_test, y_test, 'NearestCentroid', threshold=0.5)"
   ]
  },
  {
   "cell_type": "markdown",
   "metadata": {},
   "source": [
    "### Oversampling Minority Class\n",
    "Our dataset is imbalanced with only around 25% of observations being Churn customers. As our dataset is relatively small at 7000 observations, we will attempt some over sampling techniques and observe if they improve our modelling results.\n",
    "\n",
    "Over Sampling Methods:\n",
    "* Random Over Sampling\n",
    "* Synthetic Minority Over Sampling (SMOTE)\n",
    "* Adaptive Synthetic Over Sampling (ADASYN)"
   ]
  },
  {
   "cell_type": "code",
   "execution_count": 15,
   "metadata": {},
   "outputs": [],
   "source": [
    "# Instantiating our Resamplers\n",
    "ros = RandomOverSampler(random_state=SEED)\n",
    "smote = SMOTE(random_state=SEED)\n",
    "adasyn = ADASYN(random_state=SEED)"
   ]
  },
  {
   "cell_type": "markdown",
   "metadata": {},
   "source": [
    "#### Random Over Sampling"
   ]
  },
  {
   "cell_type": "code",
   "execution_count": 16,
   "metadata": {},
   "outputs": [
    {
     "name": "stdout",
     "output_type": "stream",
     "text": [
      "ROS Nearest Centroid CV Results Summary\n",
      "=======================================\n",
      "Mean Training Recall \t 81.19%\n",
      "Mean Validation Recall \t 81.07%\n",
      "\n",
      "Mean Fitting Time \t 0.0144s\n",
      "Mean Scoring Time \t 0.0026s\n",
      "\n",
      "Holdout Dataset Classification Report for ROS Nearest Centroid\n",
      "==============================================================\n",
      "              precision    recall  f1-score   support\n",
      "\n",
      "           0       0.90      0.70      0.79      1033\n",
      "           1       0.49      0.79      0.60       374\n",
      "\n",
      "    accuracy                           0.72      1407\n",
      "   macro avg       0.69      0.74      0.69      1407\n",
      "weighted avg       0.79      0.72      0.74      1407\n",
      "\n"
     ]
    }
   ],
   "source": [
    "ros_ncc_pipe = Pipeline(steps=[\n",
    "    ('RandomOverSampler', ros),\n",
    "    ('Standardise', StandardScaler()),\n",
    "    ('NearestCentroid', NearestCentroid())\n",
    "])\n",
    "\n",
    "ros_ncc_model = model_results_summary(ros_ncc_pipe, X_train, y_train, X_test, y_test, cv_kwargs,\n",
    "                                      model_name='ROS Nearest Centroid')"
   ]
  },
  {
   "cell_type": "code",
   "execution_count": 17,
   "metadata": {},
   "outputs": [],
   "source": [
    "# Saving results to df\n",
    "ncc_ros = model_report(ros_ncc_model, X_train , y_train, X_test, y_test, 'ROS_NearestCentroid')"
   ]
  },
  {
   "cell_type": "markdown",
   "metadata": {},
   "source": [
    "#### SMOTE"
   ]
  },
  {
   "cell_type": "code",
   "execution_count": 18,
   "metadata": {},
   "outputs": [
    {
     "name": "stdout",
     "output_type": "stream",
     "text": [
      "SMOTE Nearest Centroid CV Results Summary\n",
      "=========================================\n",
      "Mean Training Recall \t 80.72%\n",
      "Mean Validation Recall \t 80.47%\n",
      "\n",
      "Mean Fitting Time \t 0.0345s\n",
      "Mean Scoring Time \t 0.0026s\n",
      "\n",
      "Holdout Dataset Classification Report for SMOTE Nearest Centroid\n",
      "================================================================\n",
      "              precision    recall  f1-score   support\n",
      "\n",
      "           0       0.90      0.70      0.79      1033\n",
      "           1       0.49      0.79      0.61       374\n",
      "\n",
      "    accuracy                           0.73      1407\n",
      "   macro avg       0.70      0.75      0.70      1407\n",
      "weighted avg       0.79      0.73      0.74      1407\n",
      "\n"
     ]
    }
   ],
   "source": [
    "smote_ncc_pipe = Pipeline(steps=[\n",
    "    ('SMOTE', smote),\n",
    "    ('Standardise', StandardScaler()),\n",
    "    ('NearestCentroid', NearestCentroid())\n",
    "])\n",
    "\n",
    "smote_ncc_model = model_results_summary(smote_ncc_pipe, X_train, y_train, X_test, y_test, cv_kwargs,\n",
    "                                        model_name='SMOTE Nearest Centroid')"
   ]
  },
  {
   "cell_type": "code",
   "execution_count": 19,
   "metadata": {},
   "outputs": [],
   "source": [
    "# Saving results to dataframe\n",
    "ncc_smote = model_report(smote_ncc_model, X_train , y_train, X_test, y_test, 'SMOTE_NearestCentroid')"
   ]
  },
  {
   "cell_type": "markdown",
   "metadata": {},
   "source": [
    "#### ADASYN"
   ]
  },
  {
   "cell_type": "code",
   "execution_count": 23,
   "metadata": {},
   "outputs": [
    {
     "name": "stdout",
     "output_type": "stream",
     "text": [
      "ADASYN Nearest Centroid CV Results Summary\n",
      "==========================================\n",
      "Mean Training Recall \t 81.99%\n",
      "Mean Validation Recall \t 81.87%\n",
      "\n",
      "Mean Fitting Time \t 0.0828s\n",
      "Mean Scoring Time \t 0.0028s\n",
      "\n",
      "Holdout Dataset Classification Report for ADASYN Nearest Centroid\n",
      "=================================================================\n",
      "              precision    recall  f1-score   support\n",
      "\n",
      "           0       0.90      0.67      0.77      1033\n",
      "           1       0.47      0.80      0.59       374\n",
      "\n",
      "    accuracy                           0.71      1407\n",
      "   macro avg       0.69      0.74      0.68      1407\n",
      "weighted avg       0.79      0.71      0.72      1407\n",
      "\n"
     ]
    }
   ],
   "source": [
    "adasyn_ncc_pipe = Pipeline(steps=[\n",
    "    ('ADASYN', adasyn),\n",
    "    ('Standardise', StandardScaler()),\n",
    "    ('NearestCentroid', NearestCentroid())\n",
    "])\n",
    "\n",
    "adasyn_ncc_model = model_results_summary(adasyn_ncc_pipe, X_train, y_train, X_test, y_test, cv_kwargs,\n",
    "                                         model_name='ADASYN Nearest Centroid')"
   ]
  },
  {
   "cell_type": "code",
   "execution_count": 21,
   "metadata": {},
   "outputs": [],
   "source": [
    "ncc_adasyn = model_report(adasyn_ncc_model, X_train , y_train, X_test, y_test, 'ADASYN_NearestCentroid')"
   ]
  },
  {
   "cell_type": "markdown",
   "metadata": {},
   "source": [
    "### Comparing Resampling Results"
   ]
  },
  {
   "cell_type": "code",
   "execution_count": 22,
   "metadata": {},
   "outputs": [
    {
     "data": {
      "text/html": [
       "<div>\n",
       "<style scoped>\n",
       "    .dataframe tbody tr th:only-of-type {\n",
       "        vertical-align: middle;\n",
       "    }\n",
       "\n",
       "    .dataframe tbody tr th {\n",
       "        vertical-align: top;\n",
       "    }\n",
       "\n",
       "    .dataframe thead th {\n",
       "        text-align: right;\n",
       "    }\n",
       "</style>\n",
       "<table border=\"1\" class=\"dataframe\">\n",
       "  <thead>\n",
       "    <tr style=\"text-align: right;\">\n",
       "      <th></th>\n",
       "      <th>Model</th>\n",
       "      <th>Accuracy</th>\n",
       "      <th>ROC_AUC</th>\n",
       "      <th>Precision</th>\n",
       "      <th>Recall</th>\n",
       "      <th>F1</th>\n",
       "    </tr>\n",
       "  </thead>\n",
       "  <tbody>\n",
       "    <tr>\n",
       "      <th>0</th>\n",
       "      <td>NearestCentroid</td>\n",
       "      <td>0.729</td>\n",
       "      <td>0.746</td>\n",
       "      <td>0.493</td>\n",
       "      <td>0.783</td>\n",
       "      <td>0.605</td>\n",
       "    </tr>\n",
       "    <tr>\n",
       "      <th>0</th>\n",
       "      <td>ROS_NearestCentroid</td>\n",
       "      <td>0.722</td>\n",
       "      <td>0.744</td>\n",
       "      <td>0.486</td>\n",
       "      <td>0.791</td>\n",
       "      <td>0.602</td>\n",
       "    </tr>\n",
       "    <tr>\n",
       "      <th>0</th>\n",
       "      <td>SMOTE_NearestCentroid</td>\n",
       "      <td>0.726</td>\n",
       "      <td>0.747</td>\n",
       "      <td>0.490</td>\n",
       "      <td>0.794</td>\n",
       "      <td>0.606</td>\n",
       "    </tr>\n",
       "    <tr>\n",
       "      <th>0</th>\n",
       "      <td>ADASYN_NearestCentroid</td>\n",
       "      <td>0.707</td>\n",
       "      <td>0.737</td>\n",
       "      <td>0.470</td>\n",
       "      <td>0.799</td>\n",
       "      <td>0.592</td>\n",
       "    </tr>\n",
       "  </tbody>\n",
       "</table>\n",
       "</div>"
      ],
      "text/plain": [
       "                    Model  Accuracy  ROC_AUC  Precision  Recall     F1\n",
       "0         NearestCentroid     0.729    0.746      0.493   0.783  0.605\n",
       "0     ROS_NearestCentroid     0.722    0.744      0.486   0.791  0.602\n",
       "0   SMOTE_NearestCentroid     0.726    0.747      0.490   0.794  0.606\n",
       "0  ADASYN_NearestCentroid     0.707    0.737      0.470   0.799  0.592"
      ]
     },
     "execution_count": 22,
     "metadata": {},
     "output_type": "execute_result"
    }
   ],
   "source": [
    "ncc_performance = pd.concat([ncc_base, ncc_ros, ncc_smote, ncc_adasyn], axis=0)\n",
    "ncc_performance"
   ]
  },
  {
   "cell_type": "markdown",
   "metadata": {},
   "source": [
    "From the results of the Nearest Centroid modelling, we observe that the oversampling techniques did not improve the baseline performance by much. However, it seems that over sampling with SMOTE gives a decent improvement in recall of 1% without much loss in precision when compared to the baseline model. Although ADASYN had the best recall, it came at the expense of much poorer precision. Therefore, the SMOTE Nearest Centroid model will be used for comparison with the other models. "
   ]
  },
  {
   "cell_type": "markdown",
   "metadata": {},
   "source": [
    "## Logistic Regression"
   ]
  },
  {
   "cell_type": "markdown",
   "metadata": {},
   "source": [
    "### Hyper Parameter Tuning"
   ]
  },
  {
   "cell_type": "code",
   "execution_count": 24,
   "metadata": {},
   "outputs": [],
   "source": [
    "# Range of Cs to try during cross validation\n",
    "cs_params = np.logspace(-3,2,6)"
   ]
  },
  {
   "cell_type": "code",
   "execution_count": 25,
   "metadata": {},
   "outputs": [],
   "source": [
    "logreg_cv_params = {\n",
    "    'Cs' : cs_params,\n",
    "    'cv' : skf,\n",
    "    'class_weight' : 'balanced',\n",
    "    'penalty' : 'l2',\n",
    "    'solver' : 'lbfgs',\n",
    "    'scoring' : 'recall',\n",
    "    'max_iter' : 1000,\n",
    "    'n_jobs' : -1,\n",
    "    'random_state' : SEED\n",
    "}"
   ]
  },
  {
   "cell_type": "code",
   "execution_count": 26,
   "metadata": {},
   "outputs": [
    {
     "data": {
      "text/plain": [
       "array([0.1])"
      ]
     },
     "execution_count": 26,
     "metadata": {},
     "output_type": "execute_result"
    }
   ],
   "source": [
    "logreg = LogisticRegressionCV(**logreg_cv_params)\n",
    "logreg.fit(X_train, y_train)\n",
    "\n",
    "# Optimal C for logistic regression\n",
    "logreg.C_"
   ]
  },
  {
   "cell_type": "markdown",
   "metadata": {},
   "source": [
    "### Model Performance "
   ]
  },
  {
   "cell_type": "code",
   "execution_count": 44,
   "metadata": {},
   "outputs": [],
   "source": [
    "# Updating logistic regression params\n",
    "logreg_params = {\n",
    "    'C' : 0.1,\n",
    "    'class_weight' : 'balanced',\n",
    "    'penalty' : 'l2',\n",
    "    'solver' : 'lbfgs',\n",
    "    'max_iter' : 1000,\n",
    "    'n_jobs' : -1,\n",
    "    'random_state' : SEED\n",
    "}"
   ]
  },
  {
   "cell_type": "code",
   "execution_count": 45,
   "metadata": {},
   "outputs": [
    {
     "name": "stdout",
     "output_type": "stream",
     "text": [
      "Logistic Regression CV Results Summary\n",
      "======================================\n",
      "Mean Training Recall \t 80.18%\n",
      "Mean Validation Recall \t 80.00%\n",
      "\n",
      "Mean Fitting Time \t 0.1081s\n",
      "Mean Scoring Time \t 0.0018s\n",
      "\n",
      "Holdout Dataset Classification Report for Logistic Regression\n",
      "=============================================================\n",
      "              precision    recall  f1-score   support\n",
      "\n",
      "           0       0.91      0.72      0.80      1033\n",
      "           1       0.51      0.81      0.62       374\n",
      "\n",
      "    accuracy                           0.74      1407\n",
      "   macro avg       0.71      0.76      0.71      1407\n",
      "weighted avg       0.80      0.74      0.75      1407\n",
      "\n"
     ]
    }
   ],
   "source": [
    "# Reinstantiating our model with optimal C\n",
    "logreg = LogisticRegression(**logreg_params)\n",
    "\n",
    "# Saving optimal estimator and displaying model performance results\n",
    "logreg_model = model_results_summary(logreg, X_train, y_train, X_test, y_test, cv_kwargs,\n",
    "                                     model_name='Logistic Regression')"
   ]
  },
  {
   "cell_type": "code",
   "execution_count": 46,
   "metadata": {},
   "outputs": [
    {
     "data": {
      "image/png": "[encoded data removed]",
      "text/plain": [
       "<Figure size 720x864 with 4 Axes>"
      ]
     },
     "metadata": {},
     "output_type": "display_data"
    }
   ],
   "source": [
    "results_visualisations(logreg_model, X_train, y_train, X_test, y_test, SEED)\n",
    "\n",
    "# Saving results to dataframe\n",
    "logreg_base = model_report(logreg_model, X_train , y_train, X_test, y_test, 'LogisticRegression')"
   ]
  },
  {
   "cell_type": "markdown",
   "metadata": {},
   "source": [
    "### Random Over Sampling"
   ]
  },
  {
   "cell_type": "code",
   "execution_count": 47,
   "metadata": {},
   "outputs": [
    {
     "name": "stdout",
     "output_type": "stream",
     "text": [
      "ROS Logistic Regression CV Results Summary\n",
      "==========================================\n",
      "Mean Training Recall \t 80.79%\n",
      "Mean Validation Recall \t 80.07%\n",
      "\n",
      "Mean Fitting Time \t 0.1720s\n",
      "Mean Scoring Time \t 0.0024s\n",
      "\n",
      "Holdout Dataset Classification Report for ROS Logistic Regression\n",
      "=================================================================\n",
      "              precision    recall  f1-score   support\n",
      "\n",
      "           0       0.91      0.72      0.80      1033\n",
      "           1       0.51      0.81      0.62       374\n",
      "\n",
      "    accuracy                           0.74      1407\n",
      "   macro avg       0.71      0.76      0.71      1407\n",
      "weighted avg       0.80      0.74      0.76      1407\n",
      "\n"
     ]
    }
   ],
   "source": [
    "ros_logreg_pipe = Pipeline(steps=[\n",
    "    ('RandomOverSample', ros),\n",
    "    ('LogReg', LogisticRegression(**logreg_params))\n",
    "])\n",
    "\n",
    "ros_logreg = model_results_summary(ros_logreg_pipe, X_train, y_train, X_test, y_test,\n",
    "                                   cv_kwargs, model_name='ROS Logistic Regression')"
   ]
  },
  {
   "cell_type": "code",
   "execution_count": 48,
   "metadata": {},
   "outputs": [],
   "source": [
    "logreg_ros = model_report(ros_logreg, X_train, y_train, X_test, y_test, 'ROS_LogisticRegression')"
   ]
  },
  {
   "cell_type": "markdown",
   "metadata": {},
   "source": [
    "### SMOTE"
   ]
  },
  {
   "cell_type": "code",
   "execution_count": 49,
   "metadata": {},
   "outputs": [
    {
     "name": "stdout",
     "output_type": "stream",
     "text": [
      "SMOTE Logistic Regression CV Results Summary\n",
      "============================================\n",
      "Mean Training Recall \t 79.68%\n",
      "Mean Validation Recall \t 78.93%\n",
      "\n",
      "Mean Fitting Time \t 0.2123s\n",
      "Mean Scoring Time \t 0.0022s\n",
      "\n",
      "Holdout Dataset Classification Report for SMOTE Logistic Regression\n",
      "===================================================================\n",
      "              precision    recall  f1-score   support\n",
      "\n",
      "           0       0.91      0.72      0.80      1033\n",
      "           1       0.50      0.80      0.62       374\n",
      "\n",
      "    accuracy                           0.74      1407\n",
      "   macro avg       0.71      0.76      0.71      1407\n",
      "weighted avg       0.80      0.74      0.75      1407\n",
      "\n"
     ]
    }
   ],
   "source": [
    "smote_logreg_pipe = Pipeline(steps=[\n",
    "    ('Smote', smote),\n",
    "    ('LogReg', LogisticRegression(**logreg_params))\n",
    "])\n",
    "\n",
    "smote_logreg = model_results_summary(smote_logreg_pipe, X_train, y_train, X_test, y_test,\n",
    "                                     cv_kwargs, model_name='SMOTE Logistic Regression')"
   ]
  },
  {
   "cell_type": "code",
   "execution_count": 50,
   "metadata": {},
   "outputs": [],
   "source": [
    "# Saving results to dataframe\n",
    "logreg_smote = model_report(smote_logreg, X_train, y_train, X_test, y_test, 'SMOTE_LogisticRegression')"
   ]
  },
  {
   "cell_type": "markdown",
   "metadata": {},
   "source": [
    "### ADASYN"
   ]
  },
  {
   "cell_type": "code",
   "execution_count": 51,
   "metadata": {},
   "outputs": [
    {
     "name": "stdout",
     "output_type": "stream",
     "text": [
      "ADASYN Logistic Regression CV Results Summary\n",
      "=============================================\n",
      "Mean Training Recall \t 82.79%\n",
      "Mean Validation Recall \t 82.68%\n",
      "\n",
      "Mean Fitting Time \t 0.2019s\n",
      "Mean Scoring Time \t 0.0020s\n",
      "\n",
      "Holdout Dataset Classification Report for ADASYN Logistic Regression\n",
      "====================================================================\n",
      "              precision    recall  f1-score   support\n",
      "\n",
      "           0       0.92      0.69      0.79      1033\n",
      "           1       0.49      0.82      0.61       374\n",
      "\n",
      "    accuracy                           0.73      1407\n",
      "   macro avg       0.70      0.76      0.70      1407\n",
      "weighted avg       0.80      0.73      0.74      1407\n",
      "\n"
     ]
    }
   ],
   "source": [
    "adasyn_logreg_pipe = Pipeline(steps=[\n",
    "    ('Adasyn', adasyn),\n",
    "    ('LogReg', LogisticRegression(**logreg_params))\n",
    "])\n",
    "\n",
    "adasyn_logreg = model_results_summary(adasyn_logreg_pipe, X_train, y_train, X_test, y_test, \n",
    "                                      cv_kwargs, model_name='ADASYN Logistic Regression')"
   ]
  },
  {
   "cell_type": "code",
   "execution_count": 52,
   "metadata": {},
   "outputs": [],
   "source": [
    "# Saving results to dataframe\n",
    "logreg_adasyn = model_report(adasyn_logreg, X_train, y_train, X_test, y_test, 'ADASYN_LogisticRegression')"
   ]
  },
  {
   "cell_type": "markdown",
   "metadata": {},
   "source": [
    "### Comparing Baseline vs Resampling Methods"
   ]
  },
  {
   "cell_type": "code",
   "execution_count": 53,
   "metadata": {},
   "outputs": [
    {
     "data": {
      "text/html": [
       "<div>\n",
       "<style scoped>\n",
       "    .dataframe tbody tr th:only-of-type {\n",
       "        vertical-align: middle;\n",
       "    }\n",
       "\n",
       "    .dataframe tbody tr th {\n",
       "        vertical-align: top;\n",
       "    }\n",
       "\n",
       "    .dataframe thead th {\n",
       "        text-align: right;\n",
       "    }\n",
       "</style>\n",
       "<table border=\"1\" class=\"dataframe\">\n",
       "  <thead>\n",
       "    <tr style=\"text-align: right;\">\n",
       "      <th></th>\n",
       "      <th>Model</th>\n",
       "      <th>Accuracy</th>\n",
       "      <th>ROC_AUC</th>\n",
       "      <th>Precision</th>\n",
       "      <th>Recall</th>\n",
       "      <th>F1</th>\n",
       "    </tr>\n",
       "  </thead>\n",
       "  <tbody>\n",
       "    <tr>\n",
       "      <th>0</th>\n",
       "      <td>LogisticRegression</td>\n",
       "      <td>0.741</td>\n",
       "      <td>0.762</td>\n",
       "      <td>0.508</td>\n",
       "      <td>0.807</td>\n",
       "      <td>0.623</td>\n",
       "    </tr>\n",
       "    <tr>\n",
       "      <th>0</th>\n",
       "      <td>ROS_LogisticRegression</td>\n",
       "      <td>0.741</td>\n",
       "      <td>0.762</td>\n",
       "      <td>0.508</td>\n",
       "      <td>0.807</td>\n",
       "      <td>0.624</td>\n",
       "    </tr>\n",
       "    <tr>\n",
       "      <th>0</th>\n",
       "      <td>SMOTE_LogisticRegression</td>\n",
       "      <td>0.738</td>\n",
       "      <td>0.757</td>\n",
       "      <td>0.504</td>\n",
       "      <td>0.797</td>\n",
       "      <td>0.618</td>\n",
       "    </tr>\n",
       "    <tr>\n",
       "      <th>0</th>\n",
       "      <td>ADASYN_LogisticRegression</td>\n",
       "      <td>0.726</td>\n",
       "      <td>0.757</td>\n",
       "      <td>0.490</td>\n",
       "      <td>0.824</td>\n",
       "      <td>0.615</td>\n",
       "    </tr>\n",
       "  </tbody>\n",
       "</table>\n",
       "</div>"
      ],
      "text/plain": [
       "                       Model  Accuracy  ROC_AUC  Precision  Recall     F1\n",
       "0         LogisticRegression     0.741    0.762      0.508   0.807  0.623\n",
       "0     ROS_LogisticRegression     0.741    0.762      0.508   0.807  0.624\n",
       "0   SMOTE_LogisticRegression     0.738    0.757      0.504   0.797  0.618\n",
       "0  ADASYN_LogisticRegression     0.726    0.757      0.490   0.824  0.615"
      ]
     },
     "execution_count": 53,
     "metadata": {},
     "output_type": "execute_result"
    }
   ],
   "source": [
    "logreg_performance = pd.concat([logreg_base, logreg_ros, logreg_smote, logreg_adasyn], axis=0)\n",
    "logreg_performance"
   ]
  },
  {
   "cell_type": "markdown",
   "metadata": {},
   "source": [
    "## Random Forest Classifier"
   ]
  },
  {
   "cell_type": "markdown",
   "metadata": {},
   "source": [
    "#### Pre-tuned Random Forest"
   ]
  },
  {
   "cell_type": "code",
   "execution_count": 68,
   "metadata": {},
   "outputs": [
    {
     "name": "stdout",
     "output_type": "stream",
     "text": [
      "Random Forest CV Results Summary\n",
      "================================\n",
      "Mean Training Recall \t 99.57%\n",
      "Mean Validation Recall \t 47.96%\n",
      "\n",
      "Mean Fitting Time \t 0.2925s\n",
      "Mean Scoring Time \t 0.1061s\n",
      "\n",
      "Holdout Dataset Classification Report for Random Forest\n",
      "=======================================================\n",
      "              precision    recall  f1-score   support\n",
      "\n",
      "           0       0.84      0.90      0.87      1033\n",
      "           1       0.66      0.52      0.58       374\n",
      "\n",
      "    accuracy                           0.80      1407\n",
      "   macro avg       0.75      0.71      0.72      1407\n",
      "weighted avg       0.79      0.80      0.79      1407\n",
      "\n"
     ]
    }
   ],
   "source": [
    "rforest = RandomForestClassifier(random_state=SEED, n_jobs=-1) \n",
    "\n",
    "rforest_untuned = model_results_summary(rforest, X_train, y_train, X_test, y_test, cv_kwargs,\n",
    "                                        model_name='Random Forest')"
   ]
  },
  {
   "cell_type": "markdown",
   "metadata": {},
   "source": [
    "We observe that the baseline random forest classifier is overfitting the data. Lets do some hyper paramter tuning to improve its performance."
   ]
  },
  {
   "cell_type": "code",
   "execution_count": 69,
   "metadata": {},
   "outputs": [],
   "source": [
    "tune_rforest_params = {\n",
    "    'n_estimators' : [100],\n",
    "    'max_depth' : [5, 10, 15, 20, None],\n",
    "    'min_samples_split' : [2],\n",
    "    'min_samples_leaf' : np.arange(1,10,step=2),\n",
    "    'max_features' : ['auto'],\n",
    "    'criterion' : ['gini'],\n",
    "    'class_weight' : ['balanced'],\n",
    "    'bootstrap' : [True],\n",
    "    'max_samples' : [0.7, 0.8, 0.9 , 1.0]\n",
    "}"
   ]
  },
  {
   "cell_type": "code",
   "execution_count": 70,
   "metadata": {},
   "outputs": [
    {
     "data": {
      "text/plain": [
       "GridSearchCV(cv=StratifiedKFold(n_splits=5, random_state=8888, shuffle=True),\n",
       "             error_score=nan,\n",
       "             estimator=RandomForestClassifier(bootstrap=True, ccp_alpha=0.0,\n",
       "                                              class_weight=None,\n",
       "                                              criterion='gini', max_depth=None,\n",
       "                                              max_features='auto',\n",
       "                                              max_leaf_nodes=None,\n",
       "                                              max_samples=None,\n",
       "                                              min_impurity_decrease=0.0,\n",
       "                                              min_impurity_split=None,\n",
       "                                              min_samples_leaf=1,\n",
       "                                              min_samples_split=2,\n",
       "                                              m...\n",
       "             iid='deprecated', n_jobs=-1,\n",
       "             param_grid={'bootstrap': [True], 'class_weight': ['balanced'],\n",
       "                         'criterion': ['gini'],\n",
       "                         'max_depth': [5, 10, 15, 20, None],\n",
       "                         'max_features': ['auto'],\n",
       "                         'max_samples': [0.7, 0.8, 0.9, 1.0],\n",
       "                         'min_samples_leaf': array([1, 3, 5, 7, 9]),\n",
       "                         'min_samples_split': [2], 'n_estimators': [100]},\n",
       "             pre_dispatch='2*n_jobs', refit=True, return_train_score=True,\n",
       "             scoring='recall', verbose=0)"
      ]
     },
     "execution_count": 70,
     "metadata": {},
     "output_type": "execute_result"
    }
   ],
   "source": [
    "rforest_gscv = GridSearchCV(rforest, tune_rforest_params, scoring='recall', n_jobs=-1, cv=skf,\n",
    "                            return_train_score=True)\n",
    "\n",
    "rforest_gscv.fit(X_train, y_train)"
   ]
  },
  {
   "cell_type": "code",
   "execution_count": 71,
   "metadata": {},
   "outputs": [
    {
     "data": {
      "text/plain": [
       "{'bootstrap': True,\n",
       " 'class_weight': 'balanced',\n",
       " 'criterion': 'gini',\n",
       " 'max_depth': 5,\n",
       " 'max_features': 'auto',\n",
       " 'max_samples': 0.7,\n",
       " 'min_samples_leaf': 3,\n",
       " 'min_samples_split': 2,\n",
       " 'n_estimators': 100}"
      ]
     },
     "execution_count": 71,
     "metadata": {},
     "output_type": "execute_result"
    }
   ],
   "source": [
    "rforest_kwargs = rforest_gscv.best_params_\n",
    "rforest_kwargs"
   ]
  },
  {
   "cell_type": "code",
   "execution_count": 73,
   "metadata": {},
   "outputs": [
    {
     "name": "stdout",
     "output_type": "stream",
     "text": [
      "Tuned Random Forest CV Results Summary\n",
      "======================================\n",
      "Mean Training Recall \t 82.89%\n",
      "Mean Validation Recall \t 81.20%\n",
      "\n",
      "Mean Fitting Time \t 0.1583s\n",
      "Mean Scoring Time \t 0.1061s\n",
      "\n",
      "Holdout Dataset Classification Report for Tuned Random Forest\n",
      "=============================================================\n",
      "              precision    recall  f1-score   support\n",
      "\n",
      "           0       0.92      0.71      0.81      1033\n",
      "           1       0.51      0.83      0.64       374\n",
      "\n",
      "    accuracy                           0.75      1407\n",
      "   macro avg       0.72      0.77      0.72      1407\n",
      "weighted avg       0.81      0.75      0.76      1407\n",
      "\n"
     ]
    }
   ],
   "source": [
    "rforest_tuned = rforest_gscv.best_estimator_\n",
    "\n",
    "rforest_tuned = model_results_summary(rforest_tuned, X_train, y_train, X_test, y_test, cv_kwargs,\n",
    "                                      model_name='Tuned Random Forest')"
   ]
  },
  {
   "cell_type": "code",
   "execution_count": 74,
   "metadata": {},
   "outputs": [
    {
     "data": {
      "image/png": "[encoded data removed]",
      "text/plain": [
       "<Figure size 720x864 with 4 Axes>"
      ]
     },
     "metadata": {},
     "output_type": "display_data"
    }
   ],
   "source": [
    "results_visualisations(rforest_tuned, X_train, y_train, X_test, y_test, SEED)\n",
    "\n",
    "# Saving results to dataframe\n",
    "rforest_base = model_report(rforest_tuned, X_train , y_train, X_test, y_test, 'RandomForest')"
   ]
  },
  {
   "cell_type": "markdown",
   "metadata": {},
   "source": [
    "### Random Over Sampling"
   ]
  },
  {
   "cell_type": "code",
   "execution_count": 75,
   "metadata": {},
   "outputs": [
    {
     "name": "stdout",
     "output_type": "stream",
     "text": [
      "ROS Random Forest CV Results Summary\n",
      "====================================\n",
      "Mean Training Recall \t 83.04%\n",
      "Mean Validation Recall \t 80.74%\n",
      "\n",
      "Mean Fitting Time \t 0.2513s\n",
      "Mean Scoring Time \t 0.1056s\n",
      "\n",
      "Holdout Dataset Classification Report for ROS Random Forest\n",
      "===========================================================\n",
      "              precision    recall  f1-score   support\n",
      "\n",
      "           0       0.92      0.70      0.79      1033\n",
      "           1       0.50      0.82      0.62       374\n",
      "\n",
      "    accuracy                           0.73      1407\n",
      "   macro avg       0.71      0.76      0.71      1407\n",
      "weighted avg       0.80      0.73      0.75      1407\n",
      "\n"
     ]
    }
   ],
   "source": [
    "ros_rforest_pipe = Pipeline(steps=[\n",
    "    ('RandomOverSample', ros),\n",
    "    ('RandomForest', rforest_tuned)\n",
    "])\n",
    "\n",
    "ros_rforest = model_results_summary(ros_rforest_pipe, X_train, y_train, X_test, y_test,\n",
    "                                   cv_kwargs, model_name='ROS Random Forest')"
   ]
  },
  {
   "cell_type": "code",
   "execution_count": 76,
   "metadata": {},
   "outputs": [],
   "source": [
    "# Saving results to dataframe\n",
    "rforest_ros = model_report(ros_rforest, X_train , y_train, X_test, y_test, 'ROS_RandomForest')"
   ]
  },
  {
   "cell_type": "markdown",
   "metadata": {},
   "source": [
    "### SMOTE"
   ]
  },
  {
   "cell_type": "code",
   "execution_count": 77,
   "metadata": {},
   "outputs": [
    {
     "name": "stdout",
     "output_type": "stream",
     "text": [
      "SMOTE Random Forest CV Results Summary\n",
      "======================================\n",
      "Mean Training Recall \t 75.99%\n",
      "Mean Validation Recall \t 74.05%\n",
      "\n",
      "Mean Fitting Time \t 0.2757s\n",
      "Mean Scoring Time \t 0.1050s\n",
      "\n",
      "Holdout Dataset Classification Report for SMOTE Random Forest\n",
      "=============================================================\n",
      "              precision    recall  f1-score   support\n",
      "\n",
      "           0       0.90      0.78      0.83      1033\n",
      "           1       0.55      0.75      0.64       374\n",
      "\n",
      "    accuracy                           0.77      1407\n",
      "   macro avg       0.72      0.76      0.73      1407\n",
      "weighted avg       0.80      0.77      0.78      1407\n",
      "\n"
     ]
    }
   ],
   "source": [
    "smote_rforest_pipe = Pipeline(steps=[\n",
    "    ('Smote', smote),\n",
    "    ('RandomForest', rforest_tuned)\n",
    "])\n",
    "\n",
    "smote_rforest = model_results_summary(smote_rforest_pipe, X_train, y_train, X_test, y_test,\n",
    "                                      cv_kwargs, model_name='SMOTE Random Forest')"
   ]
  },
  {
   "cell_type": "code",
   "execution_count": 78,
   "metadata": {},
   "outputs": [],
   "source": [
    "# Saving results to dataframe\n",
    "rforest_smote = model_report(smote_rforest, X_train , y_train, X_test, y_test, 'SMOTE_RandomForest')"
   ]
  },
  {
   "cell_type": "markdown",
   "metadata": {},
   "source": [
    "### ADASYN"
   ]
  },
  {
   "cell_type": "code",
   "execution_count": 79,
   "metadata": {},
   "outputs": [
    {
     "name": "stdout",
     "output_type": "stream",
     "text": [
      "ADASYN Random Forest CV Results Summary\n",
      "=======================================\n",
      "Mean Training Recall \t 76.24%\n",
      "Mean Validation Recall \t 73.85%\n",
      "\n",
      "Mean Fitting Time \t 0.3138s\n",
      "Mean Scoring Time \t 0.1059s\n",
      "\n",
      "Holdout Dataset Classification Report for ADASYN Random Forest\n",
      "==============================================================\n",
      "              precision    recall  f1-score   support\n",
      "\n",
      "           0       0.90      0.76      0.82      1033\n",
      "           1       0.54      0.76      0.63       374\n",
      "\n",
      "    accuracy                           0.76      1407\n",
      "   macro avg       0.72      0.76      0.73      1407\n",
      "weighted avg       0.80      0.76      0.77      1407\n",
      "\n"
     ]
    }
   ],
   "source": [
    "adasyn_rforest_pipe = Pipeline(steps=[\n",
    "    ('Adasyn', adasyn),\n",
    "    ('RandomForest', rforest_tuned)\n",
    "])\n",
    "\n",
    "adasyn_rforest = model_results_summary(adasyn_rforest_pipe, X_train, y_train, X_test, y_test, \n",
    "                                       cv_kwargs, model_name='ADASYN Random Forest')"
   ]
  },
  {
   "cell_type": "code",
   "execution_count": 80,
   "metadata": {},
   "outputs": [],
   "source": [
    "# Saving results to dataframe\n",
    "rforest_adasyn = model_report(adasyn_rforest, X_train , y_train, X_test, y_test, 'ADASYN_RandomForest')"
   ]
  },
  {
   "cell_type": "markdown",
   "metadata": {},
   "source": [
    "### Comparing Baseline vs Resampling Performance"
   ]
  },
  {
   "cell_type": "code",
   "execution_count": 82,
   "metadata": {},
   "outputs": [
    {
     "data": {
      "text/html": [
       "<div>\n",
       "<style scoped>\n",
       "    .dataframe tbody tr th:only-of-type {\n",
       "        vertical-align: middle;\n",
       "    }\n",
       "\n",
       "    .dataframe tbody tr th {\n",
       "        vertical-align: top;\n",
       "    }\n",
       "\n",
       "    .dataframe thead th {\n",
       "        text-align: right;\n",
       "    }\n",
       "</style>\n",
       "<table border=\"1\" class=\"dataframe\">\n",
       "  <thead>\n",
       "    <tr style=\"text-align: right;\">\n",
       "      <th></th>\n",
       "      <th>Model</th>\n",
       "      <th>Accuracy</th>\n",
       "      <th>ROC_AUC</th>\n",
       "      <th>Precision</th>\n",
       "      <th>Recall</th>\n",
       "      <th>F1</th>\n",
       "    </tr>\n",
       "  </thead>\n",
       "  <tbody>\n",
       "    <tr>\n",
       "      <th>0</th>\n",
       "      <td>RandomForest</td>\n",
       "      <td>0.746</td>\n",
       "      <td>0.774</td>\n",
       "      <td>0.514</td>\n",
       "      <td>0.834</td>\n",
       "      <td>0.636</td>\n",
       "    </tr>\n",
       "    <tr>\n",
       "      <th>0</th>\n",
       "      <td>ROS_RandomForest</td>\n",
       "      <td>0.733</td>\n",
       "      <td>0.761</td>\n",
       "      <td>0.499</td>\n",
       "      <td>0.821</td>\n",
       "      <td>0.621</td>\n",
       "    </tr>\n",
       "    <tr>\n",
       "      <th>0</th>\n",
       "      <td>SMOTE_RandomForest</td>\n",
       "      <td>0.770</td>\n",
       "      <td>0.765</td>\n",
       "      <td>0.549</td>\n",
       "      <td>0.754</td>\n",
       "      <td>0.635</td>\n",
       "    </tr>\n",
       "    <tr>\n",
       "      <th>0</th>\n",
       "      <td>ADASYN_RandomForest</td>\n",
       "      <td>0.762</td>\n",
       "      <td>0.763</td>\n",
       "      <td>0.537</td>\n",
       "      <td>0.765</td>\n",
       "      <td>0.631</td>\n",
       "    </tr>\n",
       "  </tbody>\n",
       "</table>\n",
       "</div>"
      ],
      "text/plain": [
       "                 Model  Accuracy  ROC_AUC  Precision  Recall     F1\n",
       "0         RandomForest     0.746    0.774      0.514   0.834  0.636\n",
       "0     ROS_RandomForest     0.733    0.761      0.499   0.821  0.621\n",
       "0   SMOTE_RandomForest     0.770    0.765      0.549   0.754  0.635\n",
       "0  ADASYN_RandomForest     0.762    0.763      0.537   0.765  0.631"
      ]
     },
     "execution_count": 82,
     "metadata": {},
     "output_type": "execute_result"
    }
   ],
   "source": [
    "rforest_performance = pd.concat([rforest_base, rforest_ros, rforest_smote, rforest_adasyn], axis=0)\n",
    "rforest_performance"
   ]
  },
  {
   "cell_type": "markdown",
   "metadata": {},
   "source": [
    "### Nearest Component Analysis and Nearest Neighbours"
   ]
  },
  {
   "cell_type": "code",
   "execution_count": 24,
   "metadata": {},
   "outputs": [],
   "source": [
    "knn_pipe = Pipeline(steps=[\n",
    "    ('Standardise', StandardScaler()),\n",
    "    ('KNN', KNeighborsClassifier())\n",
    "])"
   ]
  },
  {
   "cell_type": "code",
   "execution_count": 25,
   "metadata": {},
   "outputs": [],
   "source": [
    "tune_knn_params = {\n",
    "    'KNN__n_neighbors' : np.arange(3,16, step=2),\n",
    "    'KNN__weights' : ['uniform', 'distance'],\n",
    "    'KNN__algorithm' : ['ball_tree', 'kd_tree'],\n",
    "    'KNN__metric' : ['euclidean', 'manhattan'],\n",
    "    'KNN__n_jobs' : [-1]\n",
    "}"
   ]
  },
  {
   "cell_type": "code",
   "execution_count": 26,
   "metadata": {},
   "outputs": [],
   "source": [
    "knn_gscv = GridSearchCV(knn_pipe, tune_knn_params, scoring='recall', n_jobs=-1, cv=skf,\n",
    "                        return_train_score=True)"
   ]
  },
  {
   "cell_type": "code",
   "execution_count": 27,
   "metadata": {},
   "outputs": [
    {
     "data": {
      "text/plain": [
       "GridSearchCV(cv=StratifiedKFold(n_splits=5, random_state=8888, shuffle=True),\n",
       "             error_score=nan,\n",
       "             estimator=Pipeline(memory=None,\n",
       "                                steps=[('Standardise',\n",
       "                                        StandardScaler(copy=True,\n",
       "                                                       with_mean=True,\n",
       "                                                       with_std=True)),\n",
       "                                       ('KNN',\n",
       "                                        KNeighborsClassifier(algorithm='auto',\n",
       "                                                             leaf_size=30,\n",
       "                                                             metric='minkowski',\n",
       "                                                             metric_params=None,\n",
       "                                                             n_jobs=None,\n",
       "                                                             n_neighbors=5, p=2,\n",
       "                                                             weights='uniform'))],\n",
       "                                verbose=False),\n",
       "             iid='deprecated', n_jobs=-1,\n",
       "             param_grid={'KNN__algorithm': ['ball_tree', 'kd_tree'],\n",
       "                         'KNN__metric': ['euclidean', 'manhattan'],\n",
       "                         'KNN__n_jobs': [-1],\n",
       "                         'KNN__n_neighbors': array([ 3,  5,  7,  9, 11, 13, 15]),\n",
       "                         'KNN__weights': ['uniform', 'distance']},\n",
       "             pre_dispatch='2*n_jobs', refit=True, return_train_score=True,\n",
       "             scoring='recall', verbose=0)"
      ]
     },
     "execution_count": 27,
     "metadata": {},
     "output_type": "execute_result"
    }
   ],
   "source": [
    "knn_gscv.fit(X_train, y_train)"
   ]
  },
  {
   "cell_type": "code",
   "execution_count": 28,
   "metadata": {},
   "outputs": [
    {
     "data": {
      "text/plain": [
       "0.5351170568561873"
      ]
     },
     "execution_count": 28,
     "metadata": {},
     "output_type": "execute_result"
    }
   ],
   "source": [
    "knn_gscv.best_score_"
   ]
  },
  {
   "cell_type": "code",
   "execution_count": 29,
   "metadata": {},
   "outputs": [
    {
     "data": {
      "text/plain": [
       "{'KNN__algorithm': 'ball_tree',\n",
       " 'KNN__metric': 'manhattan',\n",
       " 'KNN__n_jobs': -1,\n",
       " 'KNN__n_neighbors': 13,\n",
       " 'KNN__weights': 'uniform'}"
      ]
     },
     "execution_count": 29,
     "metadata": {},
     "output_type": "execute_result"
    }
   ],
   "source": [
    "knn_kwargs = knn_gscv.best_params_\n",
    "knn_kwargs"
   ]
  },
  {
   "cell_type": "code",
   "execution_count": 30,
   "metadata": {},
   "outputs": [],
   "source": [
    "best_knn = knn_gscv.best_estimator_"
   ]
  },
  {
   "cell_type": "code",
   "execution_count": 31,
   "metadata": {},
   "outputs": [
    {
     "name": "stdout",
     "output_type": "stream",
     "text": [
      "K-Nearest Neighbours CV Results Summary\n",
      "=======================================\n",
      "Mean Training Recall \t 59.00%\n",
      "Mean Validation Recall \t 53.51%\n",
      "\n",
      "Mean Fitting Time \t 0.1160s\n",
      "Mean Scoring Time \t 0.6794s\n",
      "\n",
      "Detailed Classification Report for K-Nearest Neighbours Model\n",
      "=============================================================\n",
      "              precision    recall  f1-score   support\n",
      "\n",
      "           0       0.84      0.87      0.86      1033\n",
      "           1       0.61      0.56      0.58       374\n",
      "\n",
      "    accuracy                           0.79      1407\n",
      "   macro avg       0.73      0.71      0.72      1407\n",
      "weighted avg       0.78      0.79      0.78      1407\n",
      "\n"
     ]
    },
    {
     "data": {
      "image/png": "[encoded data removed]",
      "text/plain": [
       "<Figure size 432x432 with 2 Axes>"
      ]
     },
     "metadata": {
      "needs_background": "light"
     },
     "output_type": "display_data"
    }
   ],
   "source": [
    "knn_tuned = model_results_summary(best_knn, X_train, y_train, X_test, y_test, cv_kwargs, model_name='K-Nearest Neighbours')"
   ]
  },
  {
   "cell_type": "code",
   "execution_count": null,
   "metadata": {},
   "outputs": [],
   "source": []
  },
  {
   "cell_type": "code",
   "execution_count": 35,
   "metadata": {},
   "outputs": [],
   "source": [
    "knn_params = {\n",
    "    'n_neighbors' : 5,\n",
    "    'weights' : 'uniform',\n",
    "    'algorithm' : 'ball_tree',\n",
    "    'metric' : 'manhattan',\n",
    "    'n_jobs' : -1\n",
    "}"
   ]
  },
  {
   "cell_type": "code",
   "execution_count": 36,
   "metadata": {},
   "outputs": [],
   "source": [
    "from sklearn.neighbors import NeighborhoodComponentsAnalysis\n",
    "nca_knn_pipe = Pipeline(steps=[\n",
    "    ('Standardise', StandardScaler()),\n",
    "    ('NCA', NeighborhoodComponentsAnalysis()),\n",
    "    ('KNN', KNeighborsClassifier(**knn_params))\n",
    "])"
   ]
  },
  {
   "cell_type": "code",
   "execution_count": 37,
   "metadata": {},
   "outputs": [
    {
     "name": "stdout",
     "output_type": "stream",
     "text": [
      "NCA-KNN CV Results Summary\n",
      "==========================\n",
      "Mean Training Recall \t 65.72%\n",
      "Mean Validation Recall \t 49.63%\n",
      "\n",
      "Mean Fitting Time \t 229.3420s\n",
      "Mean Scoring Time \t 0.3285s\n",
      "\n",
      "Detailed Classification Report for NCA-KNN Model\n",
      "================================================\n",
      "              precision    recall  f1-score   support\n",
      "\n",
      "           0       0.83      0.86      0.84      1033\n",
      "           1       0.56      0.51      0.53       374\n",
      "\n",
      "    accuracy                           0.76      1407\n",
      "   macro avg       0.69      0.68      0.69      1407\n",
      "weighted avg       0.76      0.76      0.76      1407\n",
      "\n"
     ]
    },
    {
     "data": {
      "image/png": "[encoded data removed]",
      "text/plain": [
       "<Figure size 432x432 with 2 Axes>"
      ]
     },
     "metadata": {
      "needs_background": "light"
     },
     "output_type": "display_data"
    }
   ],
   "source": [
    "nca_knn_model = model_results_summary(nca_knn_pipe, X_train, y_train, X_test, y_test, cv_kwargs, model_name='NCA-KNN')"
   ]
  },
  {
   "cell_type": "code",
   "execution_count": null,
   "metadata": {},
   "outputs": [],
   "source": []
  }
 ],
 "metadata": {
  "kernelspec": {
   "display_name": "Python 3",
   "language": "python",
   "name": "python3"
  },
  "language_info": {
   "codemirror_mode": {
    "name": "ipython",
    "version": 3
   },
   "file_extension": ".py",
   "mimetype": "text/x-python",
   "name": "python",
   "nbconvert_exporter": "python",
   "pygments_lexer": "ipython3",
   "version": "3.7.0"
  }
 },
 "nbformat": 4,
 "nbformat_minor": 2
}
