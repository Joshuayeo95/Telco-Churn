{
 "cells": [
  {
   "cell_type": "markdown",
   "metadata": {},
   "source": [
    "# Telco Churn Modelling\n",
    "Models to be trained and evaluated:\n",
    "* Nearest Centroid - Baseline Model\n",
    "* Logistic Regression\n",
    "* Support Vector Machines\n",
    "* Random Forest Classifier\n",
    "* Nearest Component Analyusis + K-Nearest Neighbours"
   ]
  },
  {
   "cell_type": "markdown",
   "metadata": {},
   "source": [
    "## Evaluation Metric : Recall\n",
    "The models' performances will be evaluated on their Recall. We believe that recall is the most appropriate metric for this problem.\n",
    "\n",
    "We want to correctly identify as many potential churn customers as possible, in order to target them with promotions to entice them to remain with the Telco.\n",
    "\n",
    "The cost of not identifying a potential churn customer (__False Negative__) is __more costly__ than incorrectly identifying a churn target (__False Positive__). This is under the reasonable assumption that the cost of losing a customer is greater than the cost incurred for promotions and marketing. \n",
    "\n",
    "Although recall will be our primary metric, we will also be using the precision-recall curve to optimize the thresholds for our models."
   ]
  },
  {
   "cell_type": "markdown",
   "metadata": {},
   "source": [
    "#### Importing Libraries"
   ]
  },
  {
   "cell_type": "code",
   "execution_count": 1,
   "metadata": {},
   "outputs": [],
   "source": [
    "# Standard Tools\n",
    "from scipy import stats\n",
    "import pandas as pd\n",
    "import numpy as np\n",
    "import warnings\n",
    "import pickle\n",
    "import time\n",
    "import sys \n",
    "# sys.path.insert(0, '/home/yeokoso/Documents/ml_scripts') # Laptop Path\n",
    "sys.path.insert(0, 'C:\\\\Users\\\\Joshua\\\\Documents\\\\DS_Projects\\ml_scripts') # PC path\n",
    "warnings.filterwarnings('ignore')\n",
    "\n",
    "# Machine Learning\n",
    "from sklearn.metrics import recall_score, precision_score, f1_score, roc_auc_score, accuracy_score\n",
    "from sklearn.metrics import confusion_matrix, classification_report, roc_curve\n",
    "from sklearn.model_selection import train_test_split, StratifiedKFold\n",
    "from sklearn.model_selection import GridSearchCV, cross_validate\n",
    "from sklearn.preprocessing import StandardScaler\n",
    "from sklearn.pipeline import Pipeline\n",
    "\n",
    "from sklearn.linear_model import LogisticRegressionCV, LogisticRegression\n",
    "from sklearn.ensemble import GradientBoostingClassifier\n",
    "from sklearn.ensemble import RandomForestClassifier\n",
    "from sklearn.neighbors import KNeighborsClassifier\n",
    "from sklearn.neighbors import NearestCentroid\n",
    "from sklearn.svm import LinearSVC, SVC\n",
    "\n",
    "# Visualisation\n",
    "from yellowbrick.classifier import DiscriminationThreshold\n",
    "from matplotlib.gridspec import GridSpec\n",
    "import matplotlib.pyplot as plt\n",
    "import seaborn as sns\n",
    "%matplotlib inline\n",
    "%config InlineBackend.figure_formate = 'retina'\n",
    "plt.style.use('fivethirtyeight')\n",
    "\n",
    "# Random State\n",
    "SEED = 8888"
   ]
  },
  {
   "cell_type": "markdown",
   "metadata": {},
   "source": [
    "#### Loading our Data and Splitting into Training and Testing sets"
   ]
  },
  {
   "cell_type": "code",
   "execution_count": 2,
   "metadata": {},
   "outputs": [],
   "source": [
    "with open('cleaned_dataset_all_levels.pickle', 'rb') as f:\n",
    "    df = pickle.load(f)"
   ]
  },
  {
   "cell_type": "code",
   "execution_count": 3,
   "metadata": {},
   "outputs": [
    {
     "data": {
      "text/html": [
       "<div>\n",
       "<style scoped>\n",
       "    .dataframe tbody tr th:only-of-type {\n",
       "        vertical-align: middle;\n",
       "    }\n",
       "\n",
       "    .dataframe tbody tr th {\n",
       "        vertical-align: top;\n",
       "    }\n",
       "\n",
       "    .dataframe thead th {\n",
       "        text-align: right;\n",
       "    }\n",
       "</style>\n",
       "<table border=\"1\" class=\"dataframe\">\n",
       "  <thead>\n",
       "    <tr style=\"text-align: right;\">\n",
       "      <th></th>\n",
       "      <th>gender</th>\n",
       "      <th>SeniorCitizen</th>\n",
       "      <th>Partner</th>\n",
       "      <th>Dependents</th>\n",
       "      <th>tenure</th>\n",
       "      <th>PhoneService</th>\n",
       "      <th>OnlineSecurity</th>\n",
       "      <th>OnlineBackup</th>\n",
       "      <th>DeviceProtection</th>\n",
       "      <th>TechSupport</th>\n",
       "      <th>...</th>\n",
       "      <th>InternetService_DSL</th>\n",
       "      <th>InternetService_Fiber_optic</th>\n",
       "      <th>InternetService_No</th>\n",
       "      <th>Contract_Month_to_month</th>\n",
       "      <th>Contract_One_year</th>\n",
       "      <th>Contract_Two_year</th>\n",
       "      <th>PaymentMethod_Bank_Transfer</th>\n",
       "      <th>PaymentMethod_Credit_Card</th>\n",
       "      <th>PaymentMethod_E_Check</th>\n",
       "      <th>PaymentMethod_Check</th>\n",
       "    </tr>\n",
       "  </thead>\n",
       "  <tbody>\n",
       "    <tr>\n",
       "      <th>0</th>\n",
       "      <td>0</td>\n",
       "      <td>0</td>\n",
       "      <td>1</td>\n",
       "      <td>0</td>\n",
       "      <td>1</td>\n",
       "      <td>0</td>\n",
       "      <td>0</td>\n",
       "      <td>1</td>\n",
       "      <td>0</td>\n",
       "      <td>0</td>\n",
       "      <td>...</td>\n",
       "      <td>1</td>\n",
       "      <td>0</td>\n",
       "      <td>0</td>\n",
       "      <td>1</td>\n",
       "      <td>0</td>\n",
       "      <td>0</td>\n",
       "      <td>0</td>\n",
       "      <td>0</td>\n",
       "      <td>1</td>\n",
       "      <td>0</td>\n",
       "    </tr>\n",
       "    <tr>\n",
       "      <th>1</th>\n",
       "      <td>1</td>\n",
       "      <td>0</td>\n",
       "      <td>0</td>\n",
       "      <td>0</td>\n",
       "      <td>34</td>\n",
       "      <td>1</td>\n",
       "      <td>1</td>\n",
       "      <td>0</td>\n",
       "      <td>1</td>\n",
       "      <td>0</td>\n",
       "      <td>...</td>\n",
       "      <td>1</td>\n",
       "      <td>0</td>\n",
       "      <td>0</td>\n",
       "      <td>0</td>\n",
       "      <td>1</td>\n",
       "      <td>0</td>\n",
       "      <td>0</td>\n",
       "      <td>0</td>\n",
       "      <td>0</td>\n",
       "      <td>1</td>\n",
       "    </tr>\n",
       "    <tr>\n",
       "      <th>2</th>\n",
       "      <td>1</td>\n",
       "      <td>0</td>\n",
       "      <td>0</td>\n",
       "      <td>0</td>\n",
       "      <td>2</td>\n",
       "      <td>1</td>\n",
       "      <td>1</td>\n",
       "      <td>1</td>\n",
       "      <td>0</td>\n",
       "      <td>0</td>\n",
       "      <td>...</td>\n",
       "      <td>1</td>\n",
       "      <td>0</td>\n",
       "      <td>0</td>\n",
       "      <td>1</td>\n",
       "      <td>0</td>\n",
       "      <td>0</td>\n",
       "      <td>0</td>\n",
       "      <td>0</td>\n",
       "      <td>0</td>\n",
       "      <td>1</td>\n",
       "    </tr>\n",
       "    <tr>\n",
       "      <th>3</th>\n",
       "      <td>1</td>\n",
       "      <td>0</td>\n",
       "      <td>0</td>\n",
       "      <td>0</td>\n",
       "      <td>45</td>\n",
       "      <td>0</td>\n",
       "      <td>1</td>\n",
       "      <td>0</td>\n",
       "      <td>1</td>\n",
       "      <td>1</td>\n",
       "      <td>...</td>\n",
       "      <td>1</td>\n",
       "      <td>0</td>\n",
       "      <td>0</td>\n",
       "      <td>0</td>\n",
       "      <td>1</td>\n",
       "      <td>0</td>\n",
       "      <td>1</td>\n",
       "      <td>0</td>\n",
       "      <td>0</td>\n",
       "      <td>0</td>\n",
       "    </tr>\n",
       "    <tr>\n",
       "      <th>4</th>\n",
       "      <td>0</td>\n",
       "      <td>0</td>\n",
       "      <td>0</td>\n",
       "      <td>0</td>\n",
       "      <td>2</td>\n",
       "      <td>1</td>\n",
       "      <td>0</td>\n",
       "      <td>0</td>\n",
       "      <td>0</td>\n",
       "      <td>0</td>\n",
       "      <td>...</td>\n",
       "      <td>0</td>\n",
       "      <td>1</td>\n",
       "      <td>0</td>\n",
       "      <td>1</td>\n",
       "      <td>0</td>\n",
       "      <td>0</td>\n",
       "      <td>0</td>\n",
       "      <td>0</td>\n",
       "      <td>1</td>\n",
       "      <td>0</td>\n",
       "    </tr>\n",
       "  </tbody>\n",
       "</table>\n",
       "<p>5 rows × 29 columns</p>\n",
       "</div>"
      ],
      "text/plain": [
       "   gender  SeniorCitizen  Partner  Dependents  tenure  PhoneService  \\\n",
       "0       0              0        1           0       1             0   \n",
       "1       1              0        0           0      34             1   \n",
       "2       1              0        0           0       2             1   \n",
       "3       1              0        0           0      45             0   \n",
       "4       0              0        0           0       2             1   \n",
       "\n",
       "   OnlineSecurity  OnlineBackup  DeviceProtection  TechSupport  ...  \\\n",
       "0               0             1                 0            0  ...   \n",
       "1               1             0                 1            0  ...   \n",
       "2               1             1                 0            0  ...   \n",
       "3               1             0                 1            1  ...   \n",
       "4               0             0                 0            0  ...   \n",
       "\n",
       "   InternetService_DSL  InternetService_Fiber_optic  InternetService_No  \\\n",
       "0                    1                            0                   0   \n",
       "1                    1                            0                   0   \n",
       "2                    1                            0                   0   \n",
       "3                    1                            0                   0   \n",
       "4                    0                            1                   0   \n",
       "\n",
       "   Contract_Month_to_month  Contract_One_year  Contract_Two_year  \\\n",
       "0                        1                  0                  0   \n",
       "1                        0                  1                  0   \n",
       "2                        1                  0                  0   \n",
       "3                        0                  1                  0   \n",
       "4                        1                  0                  0   \n",
       "\n",
       "   PaymentMethod_Bank_Transfer  PaymentMethod_Credit_Card  \\\n",
       "0                            0                          0   \n",
       "1                            0                          0   \n",
       "2                            0                          0   \n",
       "3                            1                          0   \n",
       "4                            0                          0   \n",
       "\n",
       "   PaymentMethod_E_Check  PaymentMethod_Check  \n",
       "0                      1                    0  \n",
       "1                      0                    1  \n",
       "2                      0                    1  \n",
       "3                      0                    0  \n",
       "4                      1                    0  \n",
       "\n",
       "[5 rows x 29 columns]"
      ]
     },
     "execution_count": 3,
     "metadata": {},
     "output_type": "execute_result"
    }
   ],
   "source": [
    "df.head()"
   ]
  },
  {
   "cell_type": "code",
   "execution_count": 4,
   "metadata": {},
   "outputs": [],
   "source": [
    "X = df.drop('Churn', axis = 1)\n",
    "y = df.Churn"
   ]
  },
  {
   "cell_type": "code",
   "execution_count": 5,
   "metadata": {},
   "outputs": [],
   "source": [
    "X_train, X_test, y_train, y_test = train_test_split(X, y, test_size=0.2, stratify=y, random_state=SEED)"
   ]
  },
  {
   "cell_type": "code",
   "execution_count": 6,
   "metadata": {},
   "outputs": [],
   "source": [
    "# Defining our cross validation method\n",
    "skf = StratifiedKFold(n_splits=5, shuffle=True, random_state=SEED)"
   ]
  },
  {
   "cell_type": "code",
   "execution_count": 7,
   "metadata": {},
   "outputs": [],
   "source": [
    "# Kwargs for cross_validate method\n",
    "cv_kwargs = {\n",
    "    'scoring' : 'recall',\n",
    "    'cv' : skf,\n",
    "    'n_jobs' : -1,\n",
    "    'return_train_score' : True,\n",
    "    'verbose' : False,\n",
    "    'return_estimator' : True\n",
    "}"
   ]
  },
  {
   "cell_type": "code",
   "execution_count": 8,
   "metadata": {},
   "outputs": [],
   "source": [
    "def get_best_estimator(cv_results):\n",
    "    ''' Function that returns the best estimator found during cross valiation.\n",
    "    Arguments:\n",
    "        cv_results : dict\n",
    "            Results from Sklearn's cross_validate method.\n",
    "    \n",
    "    Returns:\n",
    "        best_estimator : Sklearn estimator object\n",
    "            Best estimator found during cross validation.\n",
    "    '''\n",
    "    scores = list(cv_results['test_score'])\n",
    "    max_score_index = scores.index(max(scores))\n",
    "    best_estimator = cv_results['estimator'][max_score_index]\n",
    "    \n",
    "    return best_estimator"
   ]
  },
  {
   "cell_type": "code",
   "execution_count": 9,
   "metadata": {},
   "outputs": [],
   "source": [
    "def model_results_summary(model, X_train, y_train, X_test, y_test, cv_kwargs, model_name='', threshold=0.5, return_estimator=True):\n",
    "    cv_results = cross_validate(model, X_train, y_train, **cv_kwargs)\n",
    "    \n",
    "    avg_train_score = np.mean(cv_results['train_score']) * 100\n",
    "    avg_valid_score = np.mean(cv_results['test_score']) * 100\n",
    "    avg_training_time = np.mean(cv_results['fit_time'])\n",
    "    avg_predict_time = np.mean(cv_results['score_time'])\n",
    "    \n",
    "    best_model = get_best_estimator(cv_results)\n",
    "    best_model.fit(X_train, y_train)\n",
    "    \n",
    "    # Class predictions\n",
    "    if threshold != 0.5:\n",
    "        y_pred = np.where(best_model.predict_proba(X_test)[:,1] > threshold, 1, 0)\n",
    "    else:\n",
    "        y_pred = best_model.predict(X_test)\n",
    "        \n",
    "    title = f'{model_name} CV Results Summary'\n",
    "    len_title = len(title)\n",
    "    report_title = f'Holdout Dataset Classification Report for {model_name}'\n",
    "    report_title_len = len(report_title)\n",
    "    metric = cv_kwargs['scoring'].capitalize()\n",
    "    \n",
    "    print(title)\n",
    "    print('=' * len_title)\n",
    "    print(f'Mean Training {metric}', '\\t', '{:.2f}%'.format(avg_train_score))\n",
    "    print(f'Mean Validation {metric}', '\\t', '{:.2f}%'.format(avg_valid_score))\n",
    "    print()\n",
    "    print('Mean Fitting Time', '\\t', '{:.4f}s'.format(avg_training_time))\n",
    "    print('Mean Scoring Time', '\\t', '{:.4f}s'.format(avg_predict_time))\n",
    "    print()\n",
    "    print(report_title)\n",
    "    print('=' * report_title_len)\n",
    "    print(classification_report(y_test, y_pred))\n",
    "    \n",
    "    if return_estimator:\n",
    "        return best_model"
   ]
  },
  {
   "cell_type": "code",
   "execution_count": 10,
   "metadata": {},
   "outputs": [],
   "source": [
    "def model_predictions(model, X_train, y_train, X_test, threshold=0.5, predict_probability=True):\n",
    "    '''Function that fits a Sklearn estimator object and returns predictions.\n",
    "    Arguments:\n",
    "        model : Sklearn estimator object\n",
    "        predict_probability : bool, default = True\n",
    "            Returns class probabilities for binary classifiers\n",
    "    Returns:\n",
    "        y_pred : array\n",
    "            Predicted target values\n",
    "        y_probab : array\n",
    "            Predicted class probabilities for the positive class\n",
    "    '''\n",
    "    model.fit(X_train, y_train)\n",
    "    if threshold == 0.5:\n",
    "        y_pred = model.predict(X_test)\n",
    "    else:\n",
    "        y_pred = np.where(model.predict_proba(X_test)[:,1] > threshold, 1, 0)\n",
    "    \n",
    "    if predict_probability:\n",
    "        y_proba = model.predict_proba(X_test)[:,1]\n",
    "        return y_pred, y_proba\n",
    "    \n",
    "    else:\n",
    "        return y_pred"
   ]
  },
  {
   "cell_type": "code",
   "execution_count": 11,
   "metadata": {},
   "outputs": [],
   "source": [
    "def results_visualisations(model, X_train, y_train, X_test, y_test, random_state, threshold=0.5):\n",
    "    y_pred, y_proba = model_predictions(model, X_train, y_train, X_test, predict_probability=True, threshold=threshold)\n",
    "    fpr, tpr, thresholds = roc_curve(y_test, y_proba)\n",
    "    conf_matrix = confusion_matrix(y_test, y_pred)\n",
    "\n",
    "    fig = plt.figure(figsize=(10,12))\n",
    "    plt.style.use('fivethirtyeight')\n",
    "    gs = GridSpec(2,2, height_ratios=[2,3])\n",
    "    ax1 = fig.add_subplot(gs[0,0])\n",
    "    ax2 = fig.add_subplot(gs[0,1])\n",
    "    ax3 = fig.add_subplot(gs[1,:])\n",
    "    plt.subplots_adjust(hspace=0.3)\n",
    "    \n",
    "    # ROC Curve Plot\n",
    "    ax1.plot(fpr, tpr)\n",
    "    ax1.plot([0,1], [0,1], c='orange', ls='--')\n",
    "    ax1.set_title('ROC Curve', size=18, y=1.05)\n",
    "    ax1.set_ylabel('True Positive Rate', size=16)\n",
    "    ax1.set_xlabel('False Positive Rate', size=16)\n",
    "    ax1.tick_params(axis='both', which='major', labelsize=14)\n",
    "\n",
    "    # Confusion Matrix Heatmap\n",
    "    sns.heatmap(conf_matrix, cmap='Blues', annot=True, annot_kws={'size':16}, fmt='g', ax=ax2)\n",
    "    ax2.set_title('Confusion Matrix', size=18, y=1.05)\n",
    "    ax2.set_ylabel('Actual Class', size=16)\n",
    "    ax2.set_xlabel('Predicted Class', size=16)\n",
    "    ax2.tick_params(axis='both', which='major', labelsize=14)\n",
    "    cbar = ax2.collections[0].colorbar\n",
    "    cbar.ax.tick_params(labelsize=14)\n",
    "\n",
    "    # Discrimination Threshold Plot\n",
    "    visualiser = DiscriminationThreshold(model, ax=ax3, n_trials=5, cv=0.2, exclude='queue_rate',\n",
    "                                         random_state=random_state, title='Threshold Plot')\n",
    "    visualiser.fit(X_train, y_train)\n",
    "    ax3.set_title('Threshold Plot', size=18, y=1.05)\n",
    "    ax3.tick_params(axis='both', which='major', labelsize=14)\n",
    "    plt.rcParams[\"legend.fontsize\"] = 14\n",
    "    visualiser.show();"
   ]
  },
  {
   "cell_type": "code",
   "execution_count": 12,
   "metadata": {},
   "outputs": [],
   "source": [
    "def model_report(model, X_train , y_train, X_test, y_test, model_name, threshold=0.5):\n",
    "    model.fit(X_train, y_train)\n",
    "    y_pred = model_predictions(model, X_train, y_train, X_test, predict_probability=False)\n",
    "    \n",
    "    accuracy = accuracy_score(y_test, y_pred)\n",
    "    roc_auc = roc_auc_score(y_test, y_pred)\n",
    "    recall = recall_score(y_test, y_pred)\n",
    "    precision = precision_score(y_test, y_pred)\n",
    "    f1 = f1_score(y_test, y_pred) \n",
    "    \n",
    "    df = pd.DataFrame({\n",
    "        'Model' : [model_name],\n",
    "        'Accuracy' : [accuracy],\n",
    "        'ROC_AUC' : [roc_auc],\n",
    "        'Precision' : [precision],\n",
    "        'Recall' : [recall],\n",
    "        'F1' : [f1]\n",
    "    })\n",
    "    \n",
    "    df = df.round(3)\n",
    "    return df"
   ]
  },
  {
   "cell_type": "markdown",
   "metadata": {},
   "source": [
    "### Baseline Model : Nearest Centroid Classifier\n",
    "The Nearest Centroid Classifier is a simple algorithm that represents each class by the __centroid of its members__, similar to the label updating phase of the K-Means algorithm. Furthermore, there are __no parameters to choose__ from, making it a good baseline classifier."
   ]
  },
  {
   "cell_type": "code",
   "execution_count": 13,
   "metadata": {},
   "outputs": [],
   "source": [
    "ncc_pipe = Pipeline(steps=[\n",
    "    ('Standardise', StandardScaler()),\n",
    "    ('NearestCentroid', NearestCentroid())\n",
    "])"
   ]
  },
  {
   "cell_type": "code",
   "execution_count": 14,
   "metadata": {},
   "outputs": [
    {
     "name": "stdout",
     "output_type": "stream",
     "text": [
      "Nearest Centroid CV Results Summary\n",
      "===================================\n",
      "Mean Training Recall \t 80.33%\n",
      "Mean Validation Recall \t 80.00%\n",
      "\n",
      "Mean Fitting Time \t 0.0126s\n",
      "Mean Scoring Time \t 0.0032s\n",
      "\n",
      "Holdout Dataset Classification Report for Nearest Centroid\n",
      "==========================================================\n",
      "              precision    recall  f1-score   support\n",
      "\n",
      "           0       0.90      0.71      0.79      1033\n",
      "           1       0.49      0.78      0.61       374\n",
      "\n",
      "    accuracy                           0.73      1407\n",
      "   macro avg       0.70      0.75      0.70      1407\n",
      "weighted avg       0.79      0.73      0.74      1407\n",
      "\n"
     ]
    }
   ],
   "source": [
    "NCC_model = model_results_summary(ncc_pipe, X_train, y_train, X_test, y_test, cv_kwargs, model_name='Nearest Centroid')"
   ]
  },
  {
   "cell_type": "markdown",
   "metadata": {},
   "source": [
    "### Logistic Regression"
   ]
  },
  {
   "cell_type": "code",
   "execution_count": 15,
   "metadata": {},
   "outputs": [],
   "source": [
    "# Range of Cs to try during cross validation\n",
    "cs_params = np.logspace(-3,2,6)"
   ]
  },
  {
   "cell_type": "code",
   "execution_count": 16,
   "metadata": {},
   "outputs": [],
   "source": [
    "logreg_cv_params = {\n",
    "    'Cs' : cs_params,\n",
    "    'cv' : skf,\n",
    "    'class_weight' : 'balanced',\n",
    "    'penalty' : 'l2',\n",
    "    'solver' : 'lbfgs',\n",
    "    'scoring' : 'recall',\n",
    "    'max_iter' : 1000,\n",
    "    'n_jobs' : -1,\n",
    "    'random_state' : SEED\n",
    "}"
   ]
  },
  {
   "cell_type": "code",
   "execution_count": 17,
   "metadata": {},
   "outputs": [],
   "source": [
    "logreg = LogisticRegressionCV(**logreg_cv_params)"
   ]
  },
  {
   "cell_type": "code",
   "execution_count": 18,
   "metadata": {},
   "outputs": [
    {
     "data": {
      "text/plain": [
       "LogisticRegressionCV(Cs=array([1.e-03, 1.e-02, 1.e-01, 1.e+00, 1.e+01, 1.e+02]),\n",
       "                     class_weight='balanced',\n",
       "                     cv=StratifiedKFold(n_splits=5, random_state=8888, shuffle=True),\n",
       "                     dual=False, fit_intercept=True, intercept_scaling=1.0,\n",
       "                     l1_ratios=None, max_iter=1000, multi_class='auto',\n",
       "                     n_jobs=-1, penalty='l2', random_state=8888, refit=True,\n",
       "                     scoring='recall', solver='lbfgs', tol=0.0001, verbose=0)"
      ]
     },
     "execution_count": 18,
     "metadata": {},
     "output_type": "execute_result"
    }
   ],
   "source": [
    "logreg.fit(X_train, y_train)"
   ]
  },
  {
   "cell_type": "code",
   "execution_count": 19,
   "metadata": {},
   "outputs": [
    {
     "data": {
      "text/plain": [
       "array([0.1])"
      ]
     },
     "execution_count": 19,
     "metadata": {},
     "output_type": "execute_result"
    }
   ],
   "source": [
    "# Optimal C for logistic regression\n",
    "logreg.C_"
   ]
  },
  {
   "cell_type": "code",
   "execution_count": 20,
   "metadata": {},
   "outputs": [],
   "source": [
    "logreg_params = {\n",
    "    'C' : 0.1,\n",
    "    'class_weight' : 'balanced',\n",
    "    'penalty' : 'l2',\n",
    "    'solver' : 'lbfgs',\n",
    "    'max_iter' : 1000,\n",
    "    'n_jobs' : -1,\n",
    "    'random_state' : SEED\n",
    "}"
   ]
  },
  {
   "cell_type": "code",
   "execution_count": 21,
   "metadata": {},
   "outputs": [],
   "source": [
    "# Reinstantiating our model with optimal C\n",
    "logreg = LogisticRegression(**logreg_params)"
   ]
  },
  {
   "cell_type": "code",
   "execution_count": 22,
   "metadata": {},
   "outputs": [
    {
     "name": "stdout",
     "output_type": "stream",
     "text": [
      "Logistic Regression CV Results Summary\n",
      "======================================\n",
      "Mean Training Recall \t 80.18%\n",
      "Mean Validation Recall \t 80.00%\n",
      "\n",
      "Mean Fitting Time \t 0.1081s\n",
      "Mean Scoring Time \t 0.0020s\n",
      "\n",
      "Holdout Dataset Classification Report for Logistic Regression\n",
      "=============================================================\n",
      "              precision    recall  f1-score   support\n",
      "\n",
      "           0       0.91      0.72      0.80      1033\n",
      "           1       0.51      0.81      0.62       374\n",
      "\n",
      "    accuracy                           0.74      1407\n",
      "   macro avg       0.71      0.76      0.71      1407\n",
      "weighted avg       0.80      0.74      0.75      1407\n",
      "\n"
     ]
    }
   ],
   "source": [
    "logreg_model = model_results_summary(logreg, X_train, y_train, X_test, y_test, cv_kwargs, model_name='Logistic Regression')"
   ]
  },
  {
   "cell_type": "code",
   "execution_count": 24,
   "metadata": {},
   "outputs": [
    {
     "data": {
      "image/png": "[encoded data removed]",
      "text/plain": [
       "<Figure size 720x864 with 4 Axes>"
      ]
     },
     "metadata": {},
     "output_type": "display_data"
    }
   ],
   "source": [
    "results_visualisations(logreg_model, X_train, y_train, X_test, y_test, SEED)"
   ]
  },
  {
   "cell_type": "markdown",
   "metadata": {},
   "source": [
    "## Random Forest Classifier"
   ]
  },
  {
   "cell_type": "markdown",
   "metadata": {},
   "source": [
    "#### Pre-tuned Random Forest"
   ]
  },
  {
   "cell_type": "code",
   "execution_count": 16,
   "metadata": {},
   "outputs": [],
   "source": [
    "rforest = RandomForestClassifier(random_state=SEED, n_jobs=-1) "
   ]
  },
  {
   "cell_type": "code",
   "execution_count": 17,
   "metadata": {},
   "outputs": [
    {
     "name": "stdout",
     "output_type": "stream",
     "text": [
      "Random Forest CV Results Summary\n",
      "================================\n",
      "Mean Training Recall \t 99.57%\n",
      "Mean Validation Recall \t 47.96%\n",
      "\n",
      "Mean Fitting Time \t 1.9320s\n",
      "Mean Scoring Time \t 0.1343s\n",
      "\n",
      "Detailed Classification Report for Random Forest Model\n",
      "======================================================\n",
      "              precision    recall  f1-score   support\n",
      "\n",
      "           0       0.84      0.90      0.87      1033\n",
      "           1       0.66      0.52      0.58       374\n",
      "\n",
      "    accuracy                           0.80      1407\n",
      "   macro avg       0.75      0.71      0.72      1407\n",
      "weighted avg       0.79      0.80      0.79      1407\n",
      "\n"
     ]
    },
    {
     "data": {
      "image/png": "[encoded data removed]",
      "text/plain": [
       "<Figure size 432x432 with 2 Axes>"
      ]
     },
     "metadata": {
      "needs_background": "light"
     },
     "output_type": "display_data"
    }
   ],
   "source": [
    "rforest_untuned = model_results_summary(rforest, X_train, y_train, X_test, y_test, cv_kwargs, model_name='Random Forest')"
   ]
  },
  {
   "cell_type": "markdown",
   "metadata": {},
   "source": [
    "We observe that the baseline random forest classifier is overfitting the data. Lets do some hyper paramter tuning to improve its performance."
   ]
  },
  {
   "cell_type": "code",
   "execution_count": 18,
   "metadata": {},
   "outputs": [],
   "source": [
    "tune_rforest_params = {\n",
    "    'n_estimators' : [100],\n",
    "    'max_depth' : [5, 10, 15, 20, None],\n",
    "    'min_samples_split' : [2],\n",
    "    'min_samples_leaf' : np.arange(1,10,step=2),\n",
    "    'max_features' : ['auto'],\n",
    "    'criterion' : ['gini'],\n",
    "    'class_weight' : ['balanced'],\n",
    "    'bootstrap' : [True],\n",
    "    'max_samples' : [0.7, 0.8, 0.9 , 1.0]\n",
    "}"
   ]
  },
  {
   "cell_type": "code",
   "execution_count": 19,
   "metadata": {},
   "outputs": [],
   "source": [
    "rforest_gscv = GridSearchCV(rforest, tune_rforest_params, scoring='recall', n_jobs=-1, cv=skf,\n",
    "                            return_train_score=True)"
   ]
  },
  {
   "cell_type": "code",
   "execution_count": 20,
   "metadata": {},
   "outputs": [
    {
     "data": {
      "text/plain": [
       "GridSearchCV(cv=StratifiedKFold(n_splits=5, random_state=8888, shuffle=True),\n",
       "             error_score=nan,\n",
       "             estimator=RandomForestClassifier(bootstrap=True, ccp_alpha=0.0,\n",
       "                                              class_weight=None,\n",
       "                                              criterion='gini', max_depth=None,\n",
       "                                              max_features='auto',\n",
       "                                              max_leaf_nodes=None,\n",
       "                                              max_samples=None,\n",
       "                                              min_impurity_decrease=0.0,\n",
       "                                              min_impurity_split=None,\n",
       "                                              min_samples_leaf=1,\n",
       "                                              min_samples_split=2,\n",
       "                                              m...\n",
       "             iid='deprecated', n_jobs=-1,\n",
       "             param_grid={'bootstrap': [True], 'class_weight': ['balanced'],\n",
       "                         'criterion': ['gini'],\n",
       "                         'max_depth': [5, 10, 15, 20, None],\n",
       "                         'max_features': ['auto'],\n",
       "                         'max_samples': [0.7, 0.8, 0.9, 1.0],\n",
       "                         'min_samples_leaf': array([1, 3, 5, 7, 9]),\n",
       "                         'min_samples_split': [2], 'n_estimators': [100]},\n",
       "             pre_dispatch='2*n_jobs', refit=True, return_train_score=True,\n",
       "             scoring='recall', verbose=0)"
      ]
     },
     "execution_count": 20,
     "metadata": {},
     "output_type": "execute_result"
    }
   ],
   "source": [
    "rforest_gscv.fit(X_train, y_train)"
   ]
  },
  {
   "cell_type": "code",
   "execution_count": 21,
   "metadata": {},
   "outputs": [
    {
     "data": {
      "text/plain": [
       "{'bootstrap': True,\n",
       " 'class_weight': 'balanced',\n",
       " 'criterion': 'gini',\n",
       " 'max_depth': 5,\n",
       " 'max_features': 'auto',\n",
       " 'max_samples': 0.7,\n",
       " 'min_samples_leaf': 3,\n",
       " 'min_samples_split': 2,\n",
       " 'n_estimators': 100}"
      ]
     },
     "execution_count": 21,
     "metadata": {},
     "output_type": "execute_result"
    }
   ],
   "source": [
    "rforest_kwargs = rforest_gscv.best_params_\n",
    "rforest_kwargs"
   ]
  },
  {
   "cell_type": "code",
   "execution_count": 22,
   "metadata": {},
   "outputs": [],
   "source": [
    "best_rforest = rforest_gscv.best_estimator_"
   ]
  },
  {
   "cell_type": "code",
   "execution_count": 23,
   "metadata": {},
   "outputs": [
    {
     "name": "stdout",
     "output_type": "stream",
     "text": [
      "Tuned Random Forest CV Results Summary\n",
      "======================================\n",
      "Mean Training Recall \t 82.89%\n",
      "Mean Validation Recall \t 81.20%\n",
      "\n",
      "Mean Fitting Time \t 1.4895s\n",
      "Mean Scoring Time \t 0.1727s\n",
      "\n",
      "Detailed Classification Report for Tuned Random Forest Model\n",
      "============================================================\n",
      "              precision    recall  f1-score   support\n",
      "\n",
      "           0       0.92      0.71      0.81      1033\n",
      "           1       0.51      0.83      0.64       374\n",
      "\n",
      "    accuracy                           0.75      1407\n",
      "   macro avg       0.72      0.77      0.72      1407\n",
      "weighted avg       0.81      0.75      0.76      1407\n",
      "\n"
     ]
    },
    {
     "data": {
      "image/png": "[encoded data removed]",
      "text/plain": [
       "<Figure size 432x432 with 2 Axes>"
      ]
     },
     "metadata": {
      "needs_background": "light"
     },
     "output_type": "display_data"
    }
   ],
   "source": [
    "rforest_tuned = model_results_summary(best_rforest, X_train, y_train, X_test, y_test, cv_kwargs, model_name='Tuned Random Forest')"
   ]
  },
  {
   "cell_type": "markdown",
   "metadata": {},
   "source": [
    "### Nearest Component Analysis and Nearest Neighbours"
   ]
  },
  {
   "cell_type": "code",
   "execution_count": 24,
   "metadata": {},
   "outputs": [],
   "source": [
    "knn_pipe = Pipeline(steps=[\n",
    "    ('Standardise', StandardScaler()),\n",
    "    ('KNN', KNeighborsClassifier())\n",
    "])"
   ]
  },
  {
   "cell_type": "code",
   "execution_count": 25,
   "metadata": {},
   "outputs": [],
   "source": [
    "tune_knn_params = {\n",
    "    'KNN__n_neighbors' : np.arange(3,16, step=2),\n",
    "    'KNN__weights' : ['uniform', 'distance'],\n",
    "    'KNN__algorithm' : ['ball_tree', 'kd_tree'],\n",
    "    'KNN__metric' : ['euclidean', 'manhattan'],\n",
    "    'KNN__n_jobs' : [-1]\n",
    "}"
   ]
  },
  {
   "cell_type": "code",
   "execution_count": 26,
   "metadata": {},
   "outputs": [],
   "source": [
    "knn_gscv = GridSearchCV(knn_pipe, tune_knn_params, scoring='recall', n_jobs=-1, cv=skf,\n",
    "                        return_train_score=True)"
   ]
  },
  {
   "cell_type": "code",
   "execution_count": 27,
   "metadata": {},
   "outputs": [
    {
     "data": {
      "text/plain": [
       "GridSearchCV(cv=StratifiedKFold(n_splits=5, random_state=8888, shuffle=True),\n",
       "             error_score=nan,\n",
       "             estimator=Pipeline(memory=None,\n",
       "                                steps=[('Standardise',\n",
       "                                        StandardScaler(copy=True,\n",
       "                                                       with_mean=True,\n",
       "                                                       with_std=True)),\n",
       "                                       ('KNN',\n",
       "                                        KNeighborsClassifier(algorithm='auto',\n",
       "                                                             leaf_size=30,\n",
       "                                                             metric='minkowski',\n",
       "                                                             metric_params=None,\n",
       "                                                             n_jobs=None,\n",
       "                                                             n_neighbors=5, p=2,\n",
       "                                                             weights='uniform'))],\n",
       "                                verbose=False),\n",
       "             iid='deprecated', n_jobs=-1,\n",
       "             param_grid={'KNN__algorithm': ['ball_tree', 'kd_tree'],\n",
       "                         'KNN__metric': ['euclidean', 'manhattan'],\n",
       "                         'KNN__n_jobs': [-1],\n",
       "                         'KNN__n_neighbors': array([ 3,  5,  7,  9, 11, 13, 15]),\n",
       "                         'KNN__weights': ['uniform', 'distance']},\n",
       "             pre_dispatch='2*n_jobs', refit=True, return_train_score=True,\n",
       "             scoring='recall', verbose=0)"
      ]
     },
     "execution_count": 27,
     "metadata": {},
     "output_type": "execute_result"
    }
   ],
   "source": [
    "knn_gscv.fit(X_train, y_train)"
   ]
  },
  {
   "cell_type": "code",
   "execution_count": 28,
   "metadata": {},
   "outputs": [
    {
     "data": {
      "text/plain": [
       "0.5351170568561873"
      ]
     },
     "execution_count": 28,
     "metadata": {},
     "output_type": "execute_result"
    }
   ],
   "source": [
    "knn_gscv.best_score_"
   ]
  },
  {
   "cell_type": "code",
   "execution_count": 29,
   "metadata": {},
   "outputs": [
    {
     "data": {
      "text/plain": [
       "{'KNN__algorithm': 'ball_tree',\n",
       " 'KNN__metric': 'manhattan',\n",
       " 'KNN__n_jobs': -1,\n",
       " 'KNN__n_neighbors': 13,\n",
       " 'KNN__weights': 'uniform'}"
      ]
     },
     "execution_count": 29,
     "metadata": {},
     "output_type": "execute_result"
    }
   ],
   "source": [
    "knn_kwargs = knn_gscv.best_params_\n",
    "knn_kwargs"
   ]
  },
  {
   "cell_type": "code",
   "execution_count": 30,
   "metadata": {},
   "outputs": [],
   "source": [
    "best_knn = knn_gscv.best_estimator_"
   ]
  },
  {
   "cell_type": "code",
   "execution_count": 31,
   "metadata": {},
   "outputs": [
    {
     "name": "stdout",
     "output_type": "stream",
     "text": [
      "K-Nearest Neighbours CV Results Summary\n",
      "=======================================\n",
      "Mean Training Recall \t 59.00%\n",
      "Mean Validation Recall \t 53.51%\n",
      "\n",
      "Mean Fitting Time \t 0.1160s\n",
      "Mean Scoring Time \t 0.6794s\n",
      "\n",
      "Detailed Classification Report for K-Nearest Neighbours Model\n",
      "=============================================================\n",
      "              precision    recall  f1-score   support\n",
      "\n",
      "           0       0.84      0.87      0.86      1033\n",
      "           1       0.61      0.56      0.58       374\n",
      "\n",
      "    accuracy                           0.79      1407\n",
      "   macro avg       0.73      0.71      0.72      1407\n",
      "weighted avg       0.78      0.79      0.78      1407\n",
      "\n"
     ]
    },
    {
     "data": {
      "image/png": "[encoded data removed]",
      "text/plain": [
       "<Figure size 432x432 with 2 Axes>"
      ]
     },
     "metadata": {
      "needs_background": "light"
     },
     "output_type": "display_data"
    }
   ],
   "source": [
    "knn_tuned = model_results_summary(best_knn, X_train, y_train, X_test, y_test, cv_kwargs, model_name='K-Nearest Neighbours')"
   ]
  },
  {
   "cell_type": "code",
   "execution_count": null,
   "metadata": {},
   "outputs": [],
   "source": []
  },
  {
   "cell_type": "code",
   "execution_count": 35,
   "metadata": {},
   "outputs": [],
   "source": [
    "knn_params = {\n",
    "    'n_neighbors' : 5,\n",
    "    'weights' : 'uniform',\n",
    "    'algorithm' : 'ball_tree',\n",
    "    'metric' : 'manhattan',\n",
    "    'n_jobs' : -1\n",
    "}"
   ]
  },
  {
   "cell_type": "code",
   "execution_count": 36,
   "metadata": {},
   "outputs": [],
   "source": [
    "from sklearn.neighbors import NeighborhoodComponentsAnalysis\n",
    "nca_knn_pipe = Pipeline(steps=[\n",
    "    ('Standardise', StandardScaler()),\n",
    "    ('NCA', NeighborhoodComponentsAnalysis()),\n",
    "    ('KNN', KNeighborsClassifier(**knn_params))\n",
    "])"
   ]
  },
  {
   "cell_type": "code",
   "execution_count": 37,
   "metadata": {},
   "outputs": [
    {
     "name": "stdout",
     "output_type": "stream",
     "text": [
      "NCA-KNN CV Results Summary\n",
      "==========================\n",
      "Mean Training Recall \t 65.72%\n",
      "Mean Validation Recall \t 49.63%\n",
      "\n",
      "Mean Fitting Time \t 229.3420s\n",
      "Mean Scoring Time \t 0.3285s\n",
      "\n",
      "Detailed Classification Report for NCA-KNN Model\n",
      "================================================\n",
      "              precision    recall  f1-score   support\n",
      "\n",
      "           0       0.83      0.86      0.84      1033\n",
      "           1       0.56      0.51      0.53       374\n",
      "\n",
      "    accuracy                           0.76      1407\n",
      "   macro avg       0.69      0.68      0.69      1407\n",
      "weighted avg       0.76      0.76      0.76      1407\n",
      "\n"
     ]
    },
    {
     "data": {
      "image/png": "[encoded data removed]",
      "text/plain": [
       "<Figure size 432x432 with 2 Axes>"
      ]
     },
     "metadata": {
      "needs_background": "light"
     },
     "output_type": "display_data"
    }
   ],
   "source": [
    "nca_knn_model = model_results_summary(nca_knn_pipe, X_train, y_train, X_test, y_test, cv_kwargs, model_name='NCA-KNN')"
   ]
  },
  {
   "cell_type": "code",
   "execution_count": null,
   "metadata": {},
   "outputs": [],
   "source": []
  }
 ],
 "metadata": {
  "kernelspec": {
   "display_name": "Python 3",
   "language": "python",
   "name": "python3"
  },
  "language_info": {
   "codemirror_mode": {
    "name": "ipython",
    "version": 3
   },
   "file_extension": ".py",
   "mimetype": "text/x-python",
   "name": "python",
   "nbconvert_exporter": "python",
   "pygments_lexer": "ipython3",
   "version": "3.7.0"
  }
 },
 "nbformat": 4,
 "nbformat_minor": 2
}
